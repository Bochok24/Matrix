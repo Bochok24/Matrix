{
  "nbformat": 4,
  "nbformat_minor": 0,
  "metadata": {
    "colab": {
      "provenance": [],
      "authorship_tag": "ABX9TyP8K3RH+15FMq7+Xjum+O4i",
      "include_colab_link": true
    },
    "kernelspec": {
      "name": "python3",
      "display_name": "Python 3"
    },
    "language_info": {
      "name": "python"
    }
  },
  "cells": [
    {
      "cell_type": "markdown",
      "metadata": {
        "id": "view-in-github",
        "colab_type": "text"
      },
      "source": [
        "<a href=\"https://colab.research.google.com/github/Bochok24/Matrix/blob/main/Solving_Ranks_And_Systems_of_Equations_Maca.ipynb\" target=\"_parent\"><img src=\"https://colab.research.google.com/assets/colab-badge.svg\" alt=\"Open In Colab\"/></a>"
      ]
    },
    {
      "cell_type": "markdown",
      "source": [
        "#1. Determine the Rank of Matrix"
      ],
      "metadata": {
        "id": "9dALKf6pS18u"
      }
    },
    {
      "cell_type": "code",
      "source": [
        "import numpy as np\n",
        "\n",
        "# Define the matrix A\n",
        "A = np.array([[1, 2, 3],\n",
        "              [4, 5, 6],\n",
        "              [7, 8, 9]])\n",
        "\n",
        "# Compute the rank\n",
        "rank = np.linalg.matrix_rank(A)\n",
        "print(f\"Rank of matrix A: {rank}\")"
      ],
      "metadata": {
        "colab": {
          "base_uri": "https://localhost:8080/"
        },
        "id": "Dc2rMof5S9uT",
        "outputId": "79597c62-b237-421f-90d5-fdb822853953"
      },
      "execution_count": 2,
      "outputs": [
        {
          "output_type": "stream",
          "name": "stdout",
          "text": [
            "Rank of matrix A: 2\n"
          ]
        }
      ]
    },
    {
      "cell_type": "code",
      "source": [
        "import numpy as np\n",
        "\n",
        "# Define the coefficient matrix A\n",
        "A = np.array([[2, 1, -1],\n",
        "              [-3, -1, 2],\n",
        "              [-2, 1, 2]])\n",
        "\n",
        "# Define the constant vector b\n",
        "b = np.array([8, -11, -3])\n",
        "\n",
        "# Check if the matrix A is invertible\n",
        "if np.linalg.det(A) != 0:  # If the determinant is not zero\n",
        "    # Calculate the solution using the inverse of A\n",
        "    x = np.linalg.inv(A).dot(b)\n",
        "    print(f\"Solution: {x}\")\n",
        "else:\n",
        "    print(\"Matrix A is not invertible. No unique solution.\")"
      ],
      "metadata": {
        "colab": {
          "base_uri": "https://localhost:8080/"
        },
        "id": "oc2PH9wwTiV7",
        "outputId": "7a55e507-0038-4f10-ad12-aafc71d5df0f"
      },
      "execution_count": 3,
      "outputs": [
        {
          "output_type": "stream",
          "name": "stdout",
          "text": [
            "Solution: [ 2.  3. -1.]\n"
          ]
        }
      ]
    },
    {
      "cell_type": "markdown",
      "source": [
        "#4. Student Practice Problems\n",
        "\n",
        "##1. Rank of a Matrix"
      ],
      "metadata": {
        "id": "IBBEKVvSUedr"
      }
    },
    {
      "cell_type": "code",
      "source": [
        "import numpy as np\n",
        "\n",
        "# Define the matrix A\n",
        "A = np.array([[1, 2, 0, 4],\n",
        "              [3, 6, 0, 8],\n",
        "              [5, 10, 0, 12],\n",
        "              [7, 14, 0, 16]])\n",
        "\n",
        "# Compute the rank of matrix A\n",
        "rank = np.linalg.matrix_rank(A)  # Calculate the rank\n",
        "print(f\"Rank of matrix A: {rank}\")"
      ],
      "metadata": {
        "colab": {
          "base_uri": "https://localhost:8080/"
        },
        "id": "BynNk2oWUrww",
        "outputId": "cf3b1e74-3bd2-46d4-e992-c501c7936ebf"
      },
      "execution_count": 4,
      "outputs": [
        {
          "output_type": "stream",
          "name": "stdout",
          "text": [
            "Rank of matrix A: 2\n"
          ]
        }
      ]
    },
    {
      "cell_type": "markdown",
      "source": [
        "#2.Solving 3x3 System of Equations"
      ],
      "metadata": {
        "id": "YTF3mIAqVB3u"
      }
    },
    {
      "cell_type": "code",
      "source": [
        "import numpy as np\n",
        "\n",
        "\n",
        "A = np.array([[1, 1, 1],\n",
        "              [2, 4, 3],\n",
        "              [0, 0, 1]])\n",
        "\n",
        "b = np.array([6, 18, 5])\n",
        "\n",
        "# Check if the matrix A is invertible\n",
        "if np.linalg.det(A) != 0:  # If the determinant is not zero\n",
        "    # Calculate the solution using the inverse of A\n",
        "    x = np.linalg.inv(A).dot(b)  # Use dot product to find the solution vector\n",
        "    print(f\"Solution: x = {x[0]}, y = {x[1]}, z = {x[2]}\")\n",
        "else:\n",
        "    print(\"Matrix A is not invertible. No unique solution.\")"
      ],
      "metadata": {
        "colab": {
          "base_uri": "https://localhost:8080/"
        },
        "id": "IoxEJKyKVJrx",
        "outputId": "f60bc6e5-e4ec-4c14-b1f9-e7d8afb4bfb1"
      },
      "execution_count": 5,
      "outputs": [
        {
          "output_type": "stream",
          "name": "stdout",
          "text": [
            "Solution: x = 0.5, y = 0.5, z = 5.0\n"
          ]
        }
      ]
    },
    {
      "cell_type": "markdown",
      "source": [
        "##4. Solving a 4x4 System of Equations"
      ],
      "metadata": {
        "id": "iHgX7enOXLiB"
      }
    },
    {
      "cell_type": "code",
      "source": [
        "import numpy as np\n",
        "\n",
        "\n",
        "A = np.array([[1, 1, 1, 1],\n",
        "              [2, 1, 0, 3],\n",
        "              [4, 3, 2, 1],\n",
        "              [3, 0, 5, 2]])\n",
        "\n",
        "# Define the constant vector b\n",
        "b = np.array([10, 11, 20, 15])\n",
        "\n",
        "# Check if the matrix A is invertible\n",
        "if np.linalg.det(A) != 0:  # If the determinant is not zero\n",
        "    # Calculate the solution using the inverse of A\n",
        "    x = np.linalg.inv(A).dot(b)  # Use dot product to find the solution vector\n",
        "    print(f\"Solution: x = {x[0]}, y = {x[1]}, z = {x[2]}, w = {x[3]}\")\n",
        "else:\n",
        "    print(\"Matrix A is not invertible. No unique solution.\")"
      ],
      "metadata": {
        "colab": {
          "base_uri": "https://localhost:8080/"
        },
        "id": "FrIsk-zcXRG5",
        "outputId": "783afe72-ab5e-4986-e1b9-48a12e93f35d"
      },
      "execution_count": 6,
      "outputs": [
        {
          "output_type": "stream",
          "name": "stdout",
          "text": [
            "Solution: x = -1.625, y = 6.0, z = 2.875, w = 2.75\n"
          ]
        }
      ]
    }
  ]
}