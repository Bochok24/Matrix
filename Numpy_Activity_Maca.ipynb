{
  "nbformat": 4,
  "nbformat_minor": 0,
  "metadata": {
    "colab": {
      "provenance": [],
      "authorship_tag": "ABX9TyNqUdaowNYseRo57SKnGSyu",
      "include_colab_link": true
    },
    "kernelspec": {
      "name": "python3",
      "display_name": "Python 3"
    },
    "language_info": {
      "name": "python"
    }
  },
  "cells": [
    {
      "cell_type": "markdown",
      "metadata": {
        "id": "view-in-github",
        "colab_type": "text"
      },
      "source": [
        "<a href=\"https://colab.research.google.com/github/Bochok24/Matrix/blob/main/Numpy_Activity_Maca.ipynb\" target=\"_parent\"><img src=\"https://colab.research.google.com/assets/colab-badge.svg\" alt=\"Open In Colab\"/></a>"
      ]
    },
    {
      "cell_type": "markdown",
      "source": [
        "#Create a 2x3 matrix"
      ],
      "metadata": {
        "id": "ZTMjK_-9RxFB"
      }
    },
    {
      "cell_type": "code",
      "source": [
        "import numpy as np\n",
        "\n",
        "A = np.array([[1, 2, 3], [4, 5, 6]])\n",
        "print(\"Matrix A:\")\n",
        "print(A)"
      ],
      "metadata": {
        "colab": {
          "base_uri": "https://localhost:8080/"
        },
        "id": "emu08fH8R00V",
        "outputId": "7be80d77-9870-490f-b7d5-e9285721e8a6"
      },
      "execution_count": 1,
      "outputs": [
        {
          "output_type": "stream",
          "name": "stdout",
          "text": [
            "Matrix A:\n",
            "[[1 2 3]\n",
            " [4 5 6]]\n"
          ]
        }
      ]
    },
    {
      "cell_type": "code",
      "source": [
        "# 3x3 Zero Matrix\n",
        "zero_matrix = np.zeros((3, 3))\n",
        "print(\"Zero Matrix:\")\n",
        "print(zero_matrix)\n",
        "\n",
        "# 3x3 Identity Matrix\n",
        "identity_matrix = np.eye(3)\n",
        "print(\"Identity Matrix:\")\n",
        "print(identity_matrix)"
      ],
      "metadata": {
        "colab": {
          "base_uri": "https://localhost:8080/"
        },
        "id": "rynb3bjvSmgk",
        "outputId": "1eec9f0e-8038-4fb8-8985-2c713dff3b66"
      },
      "execution_count": 2,
      "outputs": [
        {
          "output_type": "stream",
          "name": "stdout",
          "text": [
            "Zero Matrix:\n",
            "[[0. 0. 0.]\n",
            " [0. 0. 0.]\n",
            " [0. 0. 0.]]\n",
            "Identity Matrix:\n",
            "[[1. 0. 0.]\n",
            " [0. 1. 0.]\n",
            " [0. 0. 1.]]\n"
          ]
        }
      ]
    },
    {
      "cell_type": "markdown",
      "source": [
        "#Define Two Matrices Of The Same Shape"
      ],
      "metadata": {
        "id": "tDtn3QTfSp67"
      }
    },
    {
      "cell_type": "code",
      "source": [
        "B = np.array([[1, 2], [3, 4]])\n",
        "C = np.array([[5, 6], [7, 8]])\n",
        "\n",
        "# Matrix Addition\n",
        "addition_result = B + C\n",
        "print(\"B + C:\")\n",
        "print(addition_result)\n",
        "\n",
        "# Matrix Subtraction\n",
        "subtraction_result = B - C\n",
        "print(\"B - C:\")\n",
        "print(subtraction_result)"
      ],
      "metadata": {
        "colab": {
          "base_uri": "https://localhost:8080/"
        },
        "id": "zX-qMXJIS2gi",
        "outputId": "b5bb027b-1556-4bbf-cc13-84ed9c27fbce"
      },
      "execution_count": 3,
      "outputs": [
        {
          "output_type": "stream",
          "name": "stdout",
          "text": [
            "B + C:\n",
            "[[ 6  8]\n",
            " [10 12]]\n",
            "B - C:\n",
            "[[-4 -4]\n",
            " [-4 -4]]\n"
          ]
        }
      ]
    },
    {
      "cell_type": "markdown",
      "source": [
        "#Exercise 1"
      ],
      "metadata": {
        "id": "ISO73LOkS6_H"
      }
    },
    {
      "cell_type": "code",
      "source": [
        "B = np.array([[5, 6], [8, 7]])\n",
        "C = np.array([[2, 1], [4, 2]])\n",
        "\n",
        "\n",
        "addition_result = B + C\n",
        "print(\"B + C:\")\n",
        "print(addition_result)\n",
        "\n",
        "# Matrix Subtraction\n",
        "subtraction_result = B - C\n",
        "print(\"B - C:\")\n",
        "print(subtraction_result)"
      ],
      "metadata": {
        "colab": {
          "base_uri": "https://localhost:8080/"
        },
        "id": "jUOO9JdiS-0f",
        "outputId": "ee9d7b56-9148-41c7-faa4-5932085393cc"
      },
      "execution_count": 4,
      "outputs": [
        {
          "output_type": "stream",
          "name": "stdout",
          "text": [
            "B + C:\n",
            "[[ 7  7]\n",
            " [12  9]]\n",
            "B - C:\n",
            "[[3 5]\n",
            " [4 5]]\n"
          ]
        }
      ]
    },
    {
      "cell_type": "markdown",
      "source": [
        "##Defining Matrices for Multiplication"
      ],
      "metadata": {
        "id": "8TZFPIY3TD9X"
      }
    },
    {
      "cell_type": "code",
      "source": [
        "D = np.array([[1, 2], [3, 4]])\n",
        "E = np.array([[2, 0], [1, 2]])\n",
        "\n",
        "# Matrix Multiplication\n",
        "multiplication_result = np.dot(D, E)\n",
        "print(\"D * E (Matrix Multiplication):\")\n",
        "print(multiplication_result)"
      ],
      "metadata": {
        "colab": {
          "base_uri": "https://localhost:8080/"
        },
        "id": "eCNTwm6ITHvY",
        "outputId": "274a2d91-de8f-40cc-c990-49dde3ebb2e2"
      },
      "execution_count": 5,
      "outputs": [
        {
          "output_type": "stream",
          "name": "stdout",
          "text": [
            "D * E (Matrix Multiplication):\n",
            "[[ 4  4]\n",
            " [10  8]]\n"
          ]
        }
      ]
    },
    {
      "cell_type": "markdown",
      "source": [
        "#Exercise 2"
      ],
      "metadata": {
        "id": "OGbPjMcfTR4u"
      }
    },
    {
      "cell_type": "code",
      "source": [
        "# Define matrices for multiplication\n",
        "D = np.array([[3, 7, 1], [2, 1,9]])\n",
        "E = np.array([[5, 2], [1, 2],[6,4]])\n",
        "\n",
        "# Matrix Multiplication\n",
        "multiplication_result = np.dot(D, E)\n",
        "print(\"D * E (Matrix Multiplication):\")\n",
        "print(multiplication_result)"
      ],
      "metadata": {
        "colab": {
          "base_uri": "https://localhost:8080/"
        },
        "id": "kEg36GTlTTkJ",
        "outputId": "177aaa20-c1c1-47eb-9022-7284c7a9ff7b"
      },
      "execution_count": 6,
      "outputs": [
        {
          "output_type": "stream",
          "name": "stdout",
          "text": [
            "D * E (Matrix Multiplication):\n",
            "[[28 24]\n",
            " [65 42]]\n"
          ]
        }
      ]
    },
    {
      "cell_type": "markdown",
      "source": [
        "##Defining Matrices for Multiplication"
      ],
      "metadata": {
        "id": "WwjokNnvTXq1"
      }
    },
    {
      "cell_type": "code",
      "source": [
        "D = np.array([[3, 7, 1], [2, 1, 9]])\n",
        "E = np.array([[5, 2, 1], [6, 4, 1]])  # Define E directly in the shape (2, 3)\n",
        "\n",
        "# Element-wise Multiplication\n",
        "elementwise_result = D * E\n",
        "print(\"D * E (Element-wise Multiplication):\")\n",
        "print(elementwise_result)"
      ],
      "metadata": {
        "colab": {
          "base_uri": "https://localhost:8080/"
        },
        "id": "CzMBTA8QTbmC",
        "outputId": "05b72cf7-13be-4524-94c4-60d5925c4ae8"
      },
      "execution_count": 7,
      "outputs": [
        {
          "output_type": "stream",
          "name": "stdout",
          "text": [
            "D * E (Element-wise Multiplication):\n",
            "[[15 14  1]\n",
            " [12  4  9]]\n"
          ]
        }
      ]
    },
    {
      "cell_type": "markdown",
      "source": [
        "##Transpose of a Matrix"
      ],
      "metadata": {
        "id": "lk0M-Dd7TeH4"
      }
    },
    {
      "cell_type": "code",
      "source": [
        "transpose_result = D.T\n",
        "print(\"Transpose of D:\")\n",
        "print(transpose_result)"
      ],
      "metadata": {
        "colab": {
          "base_uri": "https://localhost:8080/"
        },
        "id": "WplmGSE4Tgmf",
        "outputId": "a9c73f85-8ce0-4b57-ca08-73ac388d13a3"
      },
      "execution_count": 8,
      "outputs": [
        {
          "output_type": "stream",
          "name": "stdout",
          "text": [
            "Transpose of D:\n",
            "[[3 2]\n",
            " [7 1]\n",
            " [1 9]]\n"
          ]
        }
      ]
    },
    {
      "cell_type": "markdown",
      "source": [
        "#Exercise 3: Matrix Transpose"
      ],
      "metadata": {
        "id": "4IDDPTQATj-y"
      }
    },
    {
      "cell_type": "code",
      "source": [
        "d = np.array([[1, 2, 3], [4, 5, 6]])\n",
        "\n",
        "\n",
        "transpose_matrix = d.T\n",
        "print(\"Original Matrix (2x3):\")\n",
        "print(d)\n",
        "print(\"\\nTranspose of the Matrix (3x2):\")\n",
        "print(transpose_matrix)"
      ],
      "metadata": {
        "colab": {
          "base_uri": "https://localhost:8080/"
        },
        "id": "gKddz1QPTmuh",
        "outputId": "edf7edfa-4578-4e2e-9fa8-8167b33fcaeb"
      },
      "execution_count": 9,
      "outputs": [
        {
          "output_type": "stream",
          "name": "stdout",
          "text": [
            "Original Matrix (2x3):\n",
            "[[1 2 3]\n",
            " [4 5 6]]\n",
            "\n",
            "Transpose of the Matrix (3x2):\n",
            "[[1 4]\n",
            " [2 5]\n",
            " [3 6]]\n"
          ]
        }
      ]
    },
    {
      "cell_type": "markdown",
      "source": [
        "##Define a 2x2 Square Matrix"
      ],
      "metadata": {
        "id": "Q00kaPD_TsTV"
      }
    },
    {
      "cell_type": "code",
      "source": [
        "F = np.array([[4, 2], [3, 1]])\n",
        "\n",
        "# Determinant of F\n",
        "determinant_result = np.linalg.det(F)\n",
        "print(\"Determinant of F:\", determinant_result)"
      ],
      "metadata": {
        "colab": {
          "base_uri": "https://localhost:8080/"
        },
        "id": "V9dLl1uPTzg_",
        "outputId": "baf7659e-03cf-4890-faa7-44277e642264"
      },
      "execution_count": 10,
      "outputs": [
        {
          "output_type": "stream",
          "name": "stdout",
          "text": [
            "Determinant of F: -2.0\n"
          ]
        }
      ]
    },
    {
      "cell_type": "markdown",
      "source": [
        "#Exercise 4: Calculating the Determinant"
      ],
      "metadata": {
        "id": "0k4i8ADrT250"
      }
    },
    {
      "cell_type": "code",
      "source": [
        "F = np.array([[9, 8, 3], [2, 1, 6],[8,6,7]])\n",
        "\n",
        "determinant_result = np.linalg.det(F)\n",
        "print(\"Determinant of F:\", determinant_result)"
      ],
      "metadata": {
        "colab": {
          "base_uri": "https://localhost:8080/"
        },
        "id": "DC8SBKuZT9G1",
        "outputId": "888a2ee6-0e2e-4b14-d8a9-1ea7f8cc6cfd"
      },
      "execution_count": 11,
      "outputs": [
        {
          "output_type": "stream",
          "name": "stdout",
          "text": [
            "Determinant of F: 22.99999999999998\n"
          ]
        }
      ]
    },
    {
      "cell_type": "markdown",
      "source": [
        "##Matrix Inverse"
      ],
      "metadata": {
        "id": "dcYxSEoeT_yj"
      }
    },
    {
      "cell_type": "code",
      "source": [
        "# Define an invertible 2x2 matrix\n",
        "G = np.array([[4, 7], [2, 6]])\n",
        "\n",
        "# Inverse of G\n",
        "inverse_result = np.linalg.inv(G)\n",
        "print(\"Inverse of G:\")\n",
        "print(inverse_result)"
      ],
      "metadata": {
        "colab": {
          "base_uri": "https://localhost:8080/"
        },
        "id": "1OYUt7A9UCCR",
        "outputId": "aee4eafb-6da0-4da3-d76e-b15cedd5ae7c"
      },
      "execution_count": 12,
      "outputs": [
        {
          "output_type": "stream",
          "name": "stdout",
          "text": [
            "Inverse of G:\n",
            "[[ 0.6 -0.7]\n",
            " [-0.2  0.4]]\n"
          ]
        }
      ]
    },
    {
      "cell_type": "markdown",
      "source": [
        "#Exercise 5: Finding the Inverse"
      ],
      "metadata": {
        "id": "uofWgnLKUMZ5"
      }
    },
    {
      "cell_type": "code",
      "source": [
        "matrix = np.array([[4, 7, 2],\n",
        "                   [3, 6, 1],\n",
        "                   [2, 5, 9]])\n",
        "\n",
        "# Calculate the inverse of the matrix\n",
        "inverse_result = np.linalg.inv(matrix)\n",
        "\n",
        "# Print the inverse\n",
        "print(\"Inverse of the matrix:\")\n",
        "print(inverse_result)"
      ],
      "metadata": {
        "colab": {
          "base_uri": "https://localhost:8080/"
        },
        "id": "BWObl38-UPcX",
        "outputId": "b9eca919-19ba-4439-be8c-c7d69cde2974"
      },
      "execution_count": 13,
      "outputs": [
        {
          "output_type": "stream",
          "name": "stdout",
          "text": [
            "Inverse of the matrix:\n",
            "[[ 1.81481481 -1.96296296 -0.18518519]\n",
            " [-0.92592593  1.18518519  0.07407407]\n",
            " [ 0.11111111 -0.22222222  0.11111111]]\n"
          ]
        }
      ]
    },
    {
      "cell_type": "markdown",
      "source": [
        "##Additional Challenge"
      ],
      "metadata": {
        "id": "m0qFCAqOUTnl"
      }
    },
    {
      "cell_type": "code",
      "source": [
        "A = [\n",
        "    [1, 2, 3],\n",
        "    [4, 5, 6],\n",
        "    [7, 8, 9]\n",
        "]\n",
        "\n",
        "B = [\n",
        "    [9, 8, 7],\n",
        "    [6, 5, 4],\n",
        "    [3, 2, 1]\n",
        "]\n",
        "\n",
        "\n",
        "result = [[0 for _ in range(len(B[0]))] for _ in range(len(A))]\n",
        "\n",
        "\n",
        "for i in range(len(A)):\n",
        "    for j in range(len(B[0])):\n",
        "        for k in range(len(B)):\n",
        "            result[i][j] += A[i][k] * B[k][j]\n",
        "\n",
        "\n",
        "print(\"Result of matrix multiplication:\")\n",
        "for row in result:\n",
        "    print(row)"
      ],
      "metadata": {
        "colab": {
          "base_uri": "https://localhost:8080/"
        },
        "id": "39LoSohKUVjJ",
        "outputId": "af727077-1c55-4ee4-ffb8-d93b6bcb649d"
      },
      "execution_count": 14,
      "outputs": [
        {
          "output_type": "stream",
          "name": "stdout",
          "text": [
            "Result of matrix multiplication:\n",
            "[30, 24, 18]\n",
            "[84, 69, 54]\n",
            "[138, 114, 90]\n"
          ]
        }
      ]
    },
    {
      "cell_type": "markdown",
      "source": [
        "##Generating a Random 10×1010 \\times 1010×10 Matrix and Performing Basic Operations"
      ],
      "metadata": {
        "id": "BoZPUpkXUaOi"
      }
    },
    {
      "cell_type": "code",
      "source": [
        "# Generate a random 10x10 matrix\n",
        "random_matrix_A = np.random.rand(10, 10)\n",
        "print(\"Random 10x10 Matrix A:\")\n",
        "print(random_matrix_A)"
      ],
      "metadata": {
        "colab": {
          "base_uri": "https://localhost:8080/"
        },
        "id": "tuWWOunkUd12",
        "outputId": "4f35488f-e1b0-4221-af51-9ffd776cdf5a"
      },
      "execution_count": 15,
      "outputs": [
        {
          "output_type": "stream",
          "name": "stdout",
          "text": [
            "Random 10x10 Matrix A:\n",
            "[[0.26382135 0.68692423 0.19947968 0.02938556 0.12283775 0.34947919\n",
            "  0.7005549  0.04663721 0.38590071 0.73565565]\n",
            " [0.69385011 0.44109629 0.42441164 0.25292624 0.22909267 0.09458917\n",
            "  0.67061871 0.79458836 0.31465117 0.36353982]\n",
            " [0.03641995 0.16777843 0.32063095 0.45789427 0.14282887 0.44364591\n",
            "  0.75618949 0.80379302 0.82171523 0.07875512]\n",
            " [0.798072   0.6634429  0.9640776  0.64018426 0.42088204 0.89669013\n",
            "  0.72327428 0.42960974 0.45316108 0.3964383 ]\n",
            " [0.91094875 0.57652964 0.4770901  0.85227571 0.54332086 0.71987346\n",
            "  0.14840844 0.78219266 0.82304574 0.73852658]\n",
            " [0.0472367  0.09640818 0.47328648 0.02101591 0.55534281 0.18947463\n",
            "  0.57827649 0.11736957 0.55167197 0.11280229]\n",
            " [0.67338937 0.40629526 0.45964849 0.35338696 0.65473782 0.71551016\n",
            "  0.1987423  0.11044968 0.76292079 0.03998361]\n",
            " [0.62875046 0.01143096 0.84321449 0.85953437 0.50921779 0.5041182\n",
            "  0.54075316 0.70409832 0.77559102 0.34964435]\n",
            " [0.52748317 0.90520925 0.11371729 0.07883938 0.22074122 0.10426386\n",
            "  0.715595   0.00975741 0.24978541 0.15498576]\n",
            " [0.76882599 0.20324741 0.2118291  0.33503133 0.78344927 0.79297805\n",
            "  0.92336759 0.65547219 0.35111016 0.01140577]]\n"
          ]
        }
      ]
    },
    {
      "cell_type": "markdown",
      "source": [
        "#Creating Another Random Matrix of the Same Size\n",
        "\n",
        "##Generate a Second Random 10x10 Matrix"
      ],
      "metadata": {
        "id": "cETwnySyUimy"
      }
    },
    {
      "cell_type": "code",
      "source": [
        "random_matrix_B = np.random.rand(10, 10)\n",
        "print(\"\\nRandom 10x10 Matrix B:\")\n",
        "print(random_matrix_B)"
      ],
      "metadata": {
        "colab": {
          "base_uri": "https://localhost:8080/"
        },
        "id": "_qRvdW7jUv3x",
        "outputId": "1cd3ccbc-ae28-4e1e-a050-b84fa1937016"
      },
      "execution_count": 16,
      "outputs": [
        {
          "output_type": "stream",
          "name": "stdout",
          "text": [
            "\n",
            "Random 10x10 Matrix B:\n",
            "[[0.72306917 0.12361791 0.46638063 0.95768251 0.67710533 0.59510915\n",
            "  0.47430594 0.71905267 0.98858805 0.80086511]\n",
            " [0.4378445  0.69471308 0.71474114 0.90686227 0.97880886 0.84085841\n",
            "  0.38224891 0.03436509 0.75679098 0.13574811]\n",
            " [0.92849098 0.16528019 0.60831589 0.84554225 0.02711644 0.33270557\n",
            "  0.92712869 0.55010407 0.43405539 0.74008333]\n",
            " [0.92417983 0.30350067 0.76566459 0.73336086 0.49635421 0.13639255\n",
            "  0.25733116 0.24950521 0.15291991 0.68236765]\n",
            " [0.04439922 0.56507831 0.94748443 0.429305   0.78851114 0.67809595\n",
            "  0.77000679 0.820301   0.92533212 0.36387997]\n",
            " [0.03750289 0.4726577  0.74543715 0.43202108 0.1836313  0.24849381\n",
            "  0.50189376 0.38345236 0.11477652 0.62642764]\n",
            " [0.42618463 0.54317191 0.65738008 0.76822575 0.72252779 0.53948891\n",
            "  0.55691171 0.64057376 0.76691532 0.06798869]\n",
            " [0.0616091  0.53596728 0.21706989 0.61151567 0.8795434  0.34428915\n",
            "  0.62041768 0.19497856 0.70923547 0.22473583]\n",
            " [0.21419909 0.71713048 0.72362566 0.11691918 0.54939351 0.58182282\n",
            "  0.6322392  0.98227432 0.17271074 0.88919315]\n",
            " [0.14881707 0.42870318 0.88686335 0.74926212 0.24946403 0.90065185\n",
            "  0.47487372 0.46854781 0.68363904 0.21584546]]\n"
          ]
        }
      ]
    },
    {
      "cell_type": "markdown",
      "source": [
        "##Matrix Addition"
      ],
      "metadata": {
        "id": "wbgHA5O3U4G3"
      }
    },
    {
      "cell_type": "code",
      "source": [
        "addition_result = random_matrix_A + random_matrix_B\n",
        "print(\"\\nA + B (Matrix Addition):\")\n",
        "print(addition_result)"
      ],
      "metadata": {
        "colab": {
          "base_uri": "https://localhost:8080/"
        },
        "id": "IjqVDNPGU-ax",
        "outputId": "7f8f9666-182c-4f23-f80b-c78ba9e33586"
      },
      "execution_count": 17,
      "outputs": [
        {
          "output_type": "stream",
          "name": "stdout",
          "text": [
            "\n",
            "A + B (Matrix Addition):\n",
            "[[0.98689053 0.81054214 0.66586031 0.98706807 0.79994309 0.94458834\n",
            "  1.17486084 0.76568988 1.37448876 1.53652076]\n",
            " [1.13169461 1.13580937 1.13915278 1.15978852 1.20790154 0.93544758\n",
            "  1.05286763 0.82895345 1.07144216 0.49928793]\n",
            " [0.96491093 0.33305862 0.92894684 1.30343651 0.16994531 0.77635147\n",
            "  1.68331818 1.35389709 1.25577062 0.81883846]\n",
            " [1.72225183 0.96694357 1.72974219 1.37354512 0.91723625 1.03308268\n",
            "  0.98060545 0.67911495 0.60608099 1.07880594]\n",
            " [0.95534797 1.14160796 1.42457453 1.28158071 1.331832   1.39796941\n",
            "  0.91841523 1.60249366 1.74837785 1.10240655]\n",
            " [0.08473959 0.56906588 1.21872363 0.45303699 0.73897411 0.43796844\n",
            "  1.08017025 0.50082192 0.66644849 0.73922993]\n",
            " [1.099574   0.94946716 1.11702857 1.1216127  1.3772656  1.25499907\n",
            "  0.75565401 0.75102344 1.52983611 0.10797229]\n",
            " [0.69035956 0.54739824 1.06028438 1.47105003 1.38876119 0.84840735\n",
            "  1.16117084 0.89907688 1.48482649 0.57438018]\n",
            " [0.74168225 1.62233974 0.83734295 0.19575857 0.77013473 0.68608669\n",
            "  1.3478342  0.99203173 0.42249615 1.04417891]\n",
            " [0.91764307 0.63195059 1.09869245 1.08429344 1.0329133  1.6936299\n",
            "  1.39824131 1.12402    1.0347492  0.22725123]]\n"
          ]
        }
      ]
    },
    {
      "cell_type": "markdown",
      "source": [
        "##Matrix Subtraction"
      ],
      "metadata": {
        "id": "flxzBUTXVDfd"
      }
    },
    {
      "cell_type": "code",
      "source": [
        "subtraction_result = random_matrix_A - random_matrix_B\n",
        "print(\"\\nA - B (Matrix Subtraction):\")\n",
        "print(subtraction_result)"
      ],
      "metadata": {
        "colab": {
          "base_uri": "https://localhost:8080/"
        },
        "id": "KsxJVKCvVF5_",
        "outputId": "4f27d29d-3513-4da4-a7ba-9a4930e349dc"
      },
      "execution_count": 18,
      "outputs": [
        {
          "output_type": "stream",
          "name": "stdout",
          "text": [
            "\n",
            "A - B (Matrix Subtraction):\n",
            "[[-0.45924782  0.56330632 -0.26690095 -0.92829695 -0.55426758 -0.24562997\n",
            "   0.22624896 -0.67241545 -0.60268734 -0.06520947]\n",
            " [ 0.25600561 -0.25361679 -0.2903295  -0.65393603 -0.74971619 -0.74626924\n",
            "   0.2883698   0.76022326 -0.44213981  0.22779171]\n",
            " [-0.89207103  0.00249823 -0.28768494 -0.38764798  0.11571242  0.11094034\n",
            "  -0.1709392   0.25368896  0.38765984 -0.66132821]\n",
            " [-0.12610782  0.35994223  0.19841302 -0.0931766  -0.07547217  0.76029758\n",
            "   0.46594312  0.18010454  0.30024118 -0.28592935]\n",
            " [ 0.86654953  0.01145133 -0.47039434  0.42297071 -0.24519029  0.0417775\n",
            "  -0.62159835 -0.03810834 -0.10228638  0.37464661]\n",
            " [ 0.00973381 -0.37624952 -0.27215067 -0.41100517  0.37171152 -0.05901918\n",
            "   0.07638273 -0.26608279  0.43689545 -0.51362535]\n",
            " [ 0.24720475 -0.13687665 -0.19773159 -0.41483879 -0.06778997  0.17602125\n",
            "  -0.35816941 -0.53012408 -0.00399453 -0.02800508]\n",
            " [ 0.56714136 -0.52453632  0.6261446   0.2480187  -0.3703256   0.15982905\n",
            "  -0.07966451  0.50911976  0.06635554  0.12490851]\n",
            " [ 0.31328408  0.18807877 -0.60990836 -0.0380798  -0.32865229 -0.47755896\n",
            "   0.0833558  -0.97251691  0.07707466 -0.73420739]\n",
            " [ 0.62000892 -0.22545577 -0.67503425 -0.41423079  0.53398524 -0.10767381\n",
            "   0.44849387  0.18692439 -0.33252887 -0.20443969]]\n"
          ]
        }
      ]
    },
    {
      "cell_type": "markdown",
      "source": [
        "##Matrix Multiplication"
      ],
      "metadata": {
        "id": "YG0xkRUkVIWN"
      }
    },
    {
      "cell_type": "code",
      "source": [
        "multiplication_result = np.dot(random_matrix_A, random_matrix_B)\n",
        "print(\"\\nA * B (Matrix Multiplication):\")\n",
        "print(multiplication_result)"
      ],
      "metadata": {
        "colab": {
          "base_uri": "https://localhost:8080/"
        },
        "id": "6dhayq3uVLmg",
        "outputId": "193a95dc-a11d-44ed-fe95-1e0943e068c8"
      },
      "execution_count": 19,
      "outputs": [
        {
          "output_type": "stream",
          "name": "stdout",
          "text": [
            "\n",
            "A * B (Matrix Multiplication):\n",
            "[[1.2160368  1.78395069 2.53709001 2.43256052 1.97475225 2.25621743\n",
            "  1.86260743 1.74674719 2.16544046 1.29587801]\n",
            " [1.79262401 1.88491262 2.54170534 3.05832618 2.68359278 2.28422264\n",
            "  2.41817484 2.09876346 2.84622032 1.82728355]\n",
            " [1.40318215 2.0680146  2.48462272 2.27445971 2.34337505 1.77269244\n",
            "  2.30588375 2.09502857 1.90102549 1.91128946]\n",
            " [2.89742386 2.69290557 4.23845775 4.38705159 3.27850069 3.10791297\n",
            "  3.60892092 3.15376931 3.50845776 3.22865027]\n",
            " [2.59050012 2.90460548 4.34900599 4.20982309 3.60930747 3.34256338\n",
            "  3.53275319 3.27372192 3.57526567 3.46824495]\n",
            " [0.95563266 1.38177665 1.96722515 1.53357088 1.47457963 1.46812083\n",
            "  1.82339856 1.81914168 1.56305604 1.31688394]\n",
            " [1.73495016 1.98829861 3.05051438 2.59073607 2.35902851 2.19042076\n",
            "  2.53559437 2.56761348 2.30456408 2.58757565]\n",
            " [2.57043468 2.38911444 3.7103706  3.59087578 2.90383585 2.55244012\n",
            "  3.34504059 3.15117331 2.94379107 3.17687179]\n",
            " [1.35205096 1.55029966 2.10014806 2.32087649 2.18012058 1.973577\n",
            "  1.58032336 1.49194732 2.18897546 1.13532375]\n",
            " [1.72655222 2.29999053 3.23611116 3.18412354 3.09434682 2.41128916\n",
            "  2.87451133 2.77618334 3.11447935 2.33528023]]\n"
          ]
        }
      ]
    },
    {
      "cell_type": "code",
      "source": [
        "# Transpose of random_matrix_A\n",
        "transpose_result_A = random_matrix_A.T\n",
        "print(\"\\nTranspose of Matrix A:\")\n",
        "print(transpose_result_A)\n",
        "\n",
        "# Transpose of random_matrix_B\n",
        "transpose_result_B = random_matrix_B.T\n",
        "print(\"\\nTranspose of Matrix B:\")\n",
        "print(transpose_result_B)"
      ],
      "metadata": {
        "colab": {
          "base_uri": "https://localhost:8080/"
        },
        "id": "5oOEwpmDVPlU",
        "outputId": "e6491ce7-3fb7-465d-d7b8-0e59adc0ac29"
      },
      "execution_count": 20,
      "outputs": [
        {
          "output_type": "stream",
          "name": "stdout",
          "text": [
            "\n",
            "Transpose of Matrix A:\n",
            "[[0.26382135 0.69385011 0.03641995 0.798072   0.91094875 0.0472367\n",
            "  0.67338937 0.62875046 0.52748317 0.76882599]\n",
            " [0.68692423 0.44109629 0.16777843 0.6634429  0.57652964 0.09640818\n",
            "  0.40629526 0.01143096 0.90520925 0.20324741]\n",
            " [0.19947968 0.42441164 0.32063095 0.9640776  0.4770901  0.47328648\n",
            "  0.45964849 0.84321449 0.11371729 0.2118291 ]\n",
            " [0.02938556 0.25292624 0.45789427 0.64018426 0.85227571 0.02101591\n",
            "  0.35338696 0.85953437 0.07883938 0.33503133]\n",
            " [0.12283775 0.22909267 0.14282887 0.42088204 0.54332086 0.55534281\n",
            "  0.65473782 0.50921779 0.22074122 0.78344927]\n",
            " [0.34947919 0.09458917 0.44364591 0.89669013 0.71987346 0.18947463\n",
            "  0.71551016 0.5041182  0.10426386 0.79297805]\n",
            " [0.7005549  0.67061871 0.75618949 0.72327428 0.14840844 0.57827649\n",
            "  0.1987423  0.54075316 0.715595   0.92336759]\n",
            " [0.04663721 0.79458836 0.80379302 0.42960974 0.78219266 0.11736957\n",
            "  0.11044968 0.70409832 0.00975741 0.65547219]\n",
            " [0.38590071 0.31465117 0.82171523 0.45316108 0.82304574 0.55167197\n",
            "  0.76292079 0.77559102 0.24978541 0.35111016]\n",
            " [0.73565565 0.36353982 0.07875512 0.3964383  0.73852658 0.11280229\n",
            "  0.03998361 0.34964435 0.15498576 0.01140577]]\n",
            "\n",
            "Transpose of Matrix B:\n",
            "[[0.72306917 0.4378445  0.92849098 0.92417983 0.04439922 0.03750289\n",
            "  0.42618463 0.0616091  0.21419909 0.14881707]\n",
            " [0.12361791 0.69471308 0.16528019 0.30350067 0.56507831 0.4726577\n",
            "  0.54317191 0.53596728 0.71713048 0.42870318]\n",
            " [0.46638063 0.71474114 0.60831589 0.76566459 0.94748443 0.74543715\n",
            "  0.65738008 0.21706989 0.72362566 0.88686335]\n",
            " [0.95768251 0.90686227 0.84554225 0.73336086 0.429305   0.43202108\n",
            "  0.76822575 0.61151567 0.11691918 0.74926212]\n",
            " [0.67710533 0.97880886 0.02711644 0.49635421 0.78851114 0.1836313\n",
            "  0.72252779 0.8795434  0.54939351 0.24946403]\n",
            " [0.59510915 0.84085841 0.33270557 0.13639255 0.67809595 0.24849381\n",
            "  0.53948891 0.34428915 0.58182282 0.90065185]\n",
            " [0.47430594 0.38224891 0.92712869 0.25733116 0.77000679 0.50189376\n",
            "  0.55691171 0.62041768 0.6322392  0.47487372]\n",
            " [0.71905267 0.03436509 0.55010407 0.24950521 0.820301   0.38345236\n",
            "  0.64057376 0.19497856 0.98227432 0.46854781]\n",
            " [0.98858805 0.75679098 0.43405539 0.15291991 0.92533212 0.11477652\n",
            "  0.76691532 0.70923547 0.17271074 0.68363904]\n",
            " [0.80086511 0.13574811 0.74008333 0.68236765 0.36387997 0.62642764\n",
            "  0.06798869 0.22473583 0.88919315 0.21584546]]\n"
          ]
        }
      ]
    },
    {
      "cell_type": "markdown",
      "source": [
        "#Learning Assessment Questions\n",
        "\n",
        "##1. Matrix Creation and Structure\n",
        "\n",
        "A matrix is a rectangular array of numbers, symbols, or expressions arranged in rows and columns. Matrices are fundamental in linear algebra and are used in various fields such as physics, computer graphics, and machine learning. The size of a matrix is defined by the number of its rows and columns.\n",
        "\n",
        "Sample Code:"
      ],
      "metadata": {
        "id": "3ptFduItVTN9"
      }
    },
    {
      "cell_type": "code",
      "source": [
        "k_3x23 = np.random.randint(1, 10,(3, 23))\n",
        "\n",
        "\n",
        "k_23x2 = np.random.randint(1, 10,(23, 2))\n",
        "\n",
        "print(\"3x23 Matrix:\\n\", k_3x23)\n",
        "print(\"\\n23x2 Matrix:\\n\", k_23x2)"
      ],
      "metadata": {
        "colab": {
          "base_uri": "https://localhost:8080/"
        },
        "id": "aBb_IU5GVddz",
        "outputId": "83862d33-1845-4421-804f-46a45449592b"
      },
      "execution_count": 21,
      "outputs": [
        {
          "output_type": "stream",
          "name": "stdout",
          "text": [
            "3x23 Matrix:\n",
            " [[3 6 3 2 9 4 3 3 1 5 3 1 9 6 6 2 2 6 2 3 4 6 1]\n",
            " [6 8 5 8 4 9 6 5 7 2 6 1 1 6 1 9 3 6 1 2 2 8 4]\n",
            " [5 3 7 3 4 1 1 2 6 1 8 6 1 4 2 1 3 4 2 4 2 9 2]]\n",
            "\n",
            "23x2 Matrix:\n",
            " [[6 1]\n",
            " [5 2]\n",
            " [1 9]\n",
            " [9 5]\n",
            " [2 9]\n",
            " [7 8]\n",
            " [2 5]\n",
            " [5 7]\n",
            " [6 4]\n",
            " [6 5]\n",
            " [3 7]\n",
            " [7 6]\n",
            " [7 9]\n",
            " [5 7]\n",
            " [2 7]\n",
            " [6 4]\n",
            " [5 8]\n",
            " [4 4]\n",
            " [7 1]\n",
            " [1 5]\n",
            " [9 5]\n",
            " [7 7]\n",
            " [6 2]]\n"
          ]
        }
      ]
    },
    {
      "cell_type": "markdown",
      "source": [
        "##2. Basic Matrix Operations\n",
        "\n",
        "For matrix addition, two matrices must have the same dimensions (same number of rows and columns). You add them by adding each matching element.\n",
        "\n",
        "For matrix multiplication, the number of columns in the first matrix must equal the number of rows in the second. The result will have the same number of rows as the first matrix and the same number of columns as the second. Each element in the result is a dot product of a row from the first matrix and a column from the second.\n",
        "\n",
        "Sample Code:"
      ],
      "metadata": {
        "id": "Pco7erhuViwm"
      }
    },
    {
      "cell_type": "code",
      "source": [
        "A = np.random.randint(1, 10,(5, 5))\n",
        "B = np.random.randint(1, 10,(5, 5))\n",
        "\n",
        "\n",
        "matrix_sum = A + B\n",
        "\n",
        "\n",
        "matrix_product = np.dot(A, B)\n",
        "\n",
        "print(\"Matrix A:\\n\", A)\n",
        "print(\"\\nMatrix B:\\n\", B)\n",
        "print(\"\\nMatrix Addition (A + B):\\n\", matrix_sum)\n",
        "print(\"\\nMatrix Multiplication (A * B):\\n\", matrix_product)"
      ],
      "metadata": {
        "colab": {
          "base_uri": "https://localhost:8080/"
        },
        "id": "JnUlIV9tVpl7",
        "outputId": "abecf68f-5331-4097-d55d-93f991e95366"
      },
      "execution_count": 22,
      "outputs": [
        {
          "output_type": "stream",
          "name": "stdout",
          "text": [
            "Matrix A:\n",
            " [[7 4 3 4 6]\n",
            " [3 7 6 6 5]\n",
            " [8 2 7 9 5]\n",
            " [8 7 5 1 4]\n",
            " [7 8 5 8 5]]\n",
            "\n",
            "Matrix B:\n",
            " [[2 3 7 5 1]\n",
            " [3 1 5 5 2]\n",
            " [2 3 1 2 3]\n",
            " [6 7 6 1 9]\n",
            " [4 5 2 1 1]]\n",
            "\n",
            "Matrix Addition (A + B):\n",
            " [[ 9  7 10  9  7]\n",
            " [ 6  8 11 11  7]\n",
            " [10  5  8 11  8]\n",
            " [14 14 11  2 13]\n",
            " [11 13  7  9  6]]\n",
            "\n",
            "Matrix Multiplication (A * B):\n",
            " [[ 80  92 108  71  66]\n",
            " [ 95 101 108  73  94]\n",
            " [110 135 137  78 119]\n",
            " [ 69  73 110  90  50]\n",
            " [116 125 152  98 115]]\n"
          ]
        }
      ]
    },
    {
      "cell_type": "markdown",
      "source": [
        "##3. Matrix Transposition\n",
        "\n",
        "The transpose of a matrix is obtained by flipping it over its diagonal, which swaps its rows and columns. If a matrix has dimensions 𝑚 × 𝑛 m×n, its transpose will have dimensions 𝑛 × 𝑚\n",
        "\n",
        "Sample Code:"
      ],
      "metadata": {
        "id": "3tWX1kiCVwNq"
      }
    },
    {
      "cell_type": "code",
      "source": [
        "k = np.random.randint(1, 10, (3, 2))\n",
        "\n",
        "\n",
        "matrix_transpose = k.T\n",
        "\n",
        "print(\"Original 3x2 Matrix:\\n\", matrix)\n",
        "print(\"\\nTranspose of the Matrix (2x3):\\n\", matrix_transpose)"
      ],
      "metadata": {
        "colab": {
          "base_uri": "https://localhost:8080/"
        },
        "id": "ZpyHsOdtV4_D",
        "outputId": "b902b7f9-9cec-4212-e75d-16c77f56b58c"
      },
      "execution_count": 23,
      "outputs": [
        {
          "output_type": "stream",
          "name": "stdout",
          "text": [
            "Original 3x2 Matrix:\n",
            " [[4 7 2]\n",
            " [3 6 1]\n",
            " [2 5 9]]\n",
            "\n",
            "Transpose of the Matrix (2x3):\n",
            " [[1 1 5]\n",
            " [5 9 7]]\n"
          ]
        }
      ]
    },
    {
      "cell_type": "markdown",
      "source": [
        "##4. Working with Large Matrices"
      ],
      "metadata": {
        "id": "BK6DX2eJV7qi"
      }
    },
    {
      "cell_type": "code",
      "source": [
        "matrix = np.random.randint(1, 11, (5, 5))\n",
        "\n",
        "matrix_sum = np.sum(matrix)\n",
        "\n",
        "\n",
        "matrix_transpose = matrix.T\n",
        "\n",
        "# Print the results\n",
        "print(\"Original 5x5 Matrix:\\n\", matrix)\n",
        "print(\"\\nSum of all elements in the matrix:\", matrix_sum)\n",
        "print(\"\\nTranspose of the Matrix:\\n\", matrix_transpose)"
      ],
      "metadata": {
        "colab": {
          "base_uri": "https://localhost:8080/"
        },
        "id": "xqMxGnxvWA3j",
        "outputId": "27b33cb4-fff0-48db-98ab-a62ab4858d95"
      },
      "execution_count": 24,
      "outputs": [
        {
          "output_type": "stream",
          "name": "stdout",
          "text": [
            "Original 5x5 Matrix:\n",
            " [[ 7 10  3  4  4]\n",
            " [ 7  4  8  4 10]\n",
            " [ 9  3 10  2  6]\n",
            " [ 9  9  7  2  4]\n",
            " [ 6  5  6  4  9]]\n",
            "\n",
            "Sum of all elements in the matrix: 152\n",
            "\n",
            "Transpose of the Matrix:\n",
            " [[ 7  7  9  9  6]\n",
            " [10  4  3  9  5]\n",
            " [ 3  8 10  7  6]\n",
            " [ 4  4  2  2  4]\n",
            " [ 4 10  6  4  9]]\n"
          ]
        }
      ]
    },
    {
      "cell_type": "markdown",
      "source": [
        "##Answer:\n",
        "\n",
        "If we want to make a random 5 × 5 5x5 matrix in NumPy, we can just write np.random.randint(1, 11, (5, 5)) because we want to generate a whole number between 1 and 10 for each element in the matrix. Next we can compute the sum of all elements of the matrix using np.sum(matrix). Finally, to get the transpose of the matrix we are using matrix.T, which flips the matrix across the diagonal, making rows into columns. This gives us the total of the matrix elements and it’s transposed form."
      ],
      "metadata": {
        "id": "-lFCLTTfWFi-"
      }
    },
    {
      "cell_type": "markdown",
      "source": [
        "##Applying Matrix Operations in Context\n",
        "\n",
        "Matrix Addition (D + E): Adds matching elements from both matrices. This can help in tasks like merging two images or increasing brightness.\n",
        "\n",
        "Matrix Subtraction (D - E): Finds differences between two matrices. This is useful in detecting changes between images or video frames, such as movement.\n",
        "\n",
        "Matrix Multiplication (D * E): Combines matrices in a way that’s essential for tasks in graphics (e.g., rotating objects) and machine learning calculations."
      ],
      "metadata": {
        "id": "Tz-7BOm1Wspf"
      }
    },
    {
      "cell_type": "code",
      "source": [
        "D = np.random.randint(1, 11, (10, 10))\n",
        "E = np.random.randint(1, 11, (10, 10))\n",
        "\n",
        "\n",
        "matrix_addition = D + E\n",
        "print(\"Matrix Addition (D + E):\\n\", matrix_addition)\n",
        "\n",
        "\n",
        "matrix_subtraction = D - E\n",
        "print(\"\\nMatrix Subtraction (D - E):\\n\", matrix_subtraction)\n",
        "\n",
        "\n",
        "matrix_multiplication = np.dot(D, E)\n",
        "print(\"\\nMatrix Multiplication (D * E):\\n\", matrix_multiplication)"
      ],
      "metadata": {
        "colab": {
          "base_uri": "https://localhost:8080/"
        },
        "id": "rFdObor1WyfO",
        "outputId": "8d300296-b3cf-426e-9ce2-5c83045ef001"
      },
      "execution_count": 25,
      "outputs": [
        {
          "output_type": "stream",
          "name": "stdout",
          "text": [
            "Matrix Addition (D + E):\n",
            " [[14 12 16  9 12  7  4  2  6  8]\n",
            " [10 17 12 10  5  5  7 10  6 17]\n",
            " [ 8 17 18  6  9 14 11  2 12 14]\n",
            " [15 11 10 13 10  4  2  3  9 11]\n",
            " [ 5  4 19 13  9  4 12 11  4  5]\n",
            " [18 12  6 12 10 18 14 16 15  9]\n",
            " [18 10  8  6 11 14  8 15 12 10]\n",
            " [12 13 11 13 17 10  6  4 11 14]\n",
            " [12 10 15 13  8 14  5  6 12 15]\n",
            " [16 17 13 13  8  7 11 14  4 15]]\n",
            "\n",
            "Matrix Subtraction (D - E):\n",
            " [[ 2  0  0 -5  6  3  2  0  0  0]\n",
            " [ 2 -1  8 -4  3 -3 -1 -4  2 -3]\n",
            " [ 0 -1  2  2  1 -2 -7  0 -6  2]\n",
            " [-5 -3 -4 -5  8  2  0 -1 -7  5]\n",
            " [ 3 -2 -1 -3  1 -2 -4 -3  2 -3]\n",
            " [ 0 -6  0 -2  4  2  4  4  5 -5]\n",
            " [-2 -2  4  2  3  6  0 -1  8  0]\n",
            " [-4  1 -3 -3  1 -4 -2 -2  3  4]\n",
            " [ 2  8  5 -7  4 -4 -3  4  4 -1]\n",
            " [ 2  1 -1  5 -2 -5  7 -2 -2 -3]]\n",
            "\n",
            "Matrix Multiplication (D * E):\n",
            " [[259 319 315 299 161 243 239 217 192 297]\n",
            " [274 336 304 282 167 258 222 205 212 321]\n",
            " [294 368 306 296 164 277 240 235 229 341]\n",
            " [213 252 269 250 134 173 167 201 140 237]\n",
            " [222 232 252 219 136 189 185 126 184 195]\n",
            " [459 394 389 467 251 368 279 280 261 390]\n",
            " [406 393 390 442 231 370 282 262 266 398]\n",
            " [280 309 321 341 160 256 218 246 189 334]\n",
            " [338 397 376 392 207 344 279 245 259 403]\n",
            " [401 409 341 350 200 251 213 262 243 345]]\n"
          ]
        }
      ]
    }
  ]
}