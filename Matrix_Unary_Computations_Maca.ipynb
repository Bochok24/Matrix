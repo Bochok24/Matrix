{
  "nbformat": 4,
  "nbformat_minor": 0,
  "metadata": {
    "colab": {
      "provenance": [],
      "authorship_tag": "ABX9TyNggOCgEqSk4FZJOb2KjIzN",
      "include_colab_link": true
    },
    "kernelspec": {
      "name": "python3",
      "display_name": "Python 3"
    },
    "language_info": {
      "name": "python"
    }
  },
  "cells": [
    {
      "cell_type": "markdown",
      "metadata": {
        "id": "view-in-github",
        "colab_type": "text"
      },
      "source": [
        "<a href=\"https://colab.research.google.com/github/Bochok24/Matrix/blob/main/Matrix_Unary_Computations_Maca.ipynb\" target=\"_parent\"><img src=\"https://colab.research.google.com/assets/colab-badge.svg\" alt=\"Open In Colab\"/></a>"
      ]
    },
    {
      "cell_type": "markdown",
      "source": [
        "#Q1: What are some examples of unary operations in matrices?"
      ],
      "metadata": {
        "id": "g2Duv9f4f_Ug"
      }
    },
    {
      "cell_type": "markdown",
      "source": [
        "##Unary Operations on Matrices"
      ],
      "metadata": {
        "id": "yygYeNn6guzN"
      }
    },
    {
      "cell_type": "markdown",
      "source": [
        "###1. Transposition\n",
        "The transpose of a matrix is obtained by flipping it over its diagonal, turning rows into columns and vice versa."
      ],
      "metadata": {
        "id": "4g0Jzqm1g6xZ"
      }
    },
    {
      "cell_type": "code",
      "source": [
        "import numpy as np\n",
        "\n",
        "# Create a sample matrix\n",
        "matrix = np.array([[1, 2, 3], [4, 5, 6]])\n",
        "\n",
        "# Transpose the matrix\n",
        "transposed_matrix = matrix.T\n",
        "\n",
        "print(\"Original Matrix:\\n\", matrix)\n",
        "print(\"\\nTransposed Matrix:\\n\", transposed_matrix)"
      ],
      "metadata": {
        "colab": {
          "base_uri": "https://localhost:8080/"
        },
        "id": "wWwNSoUDg9vX",
        "outputId": "0abfe822-c0d3-42e9-d5e0-c92dcd6d9b5d"
      },
      "execution_count": 2,
      "outputs": [
        {
          "output_type": "stream",
          "name": "stdout",
          "text": [
            "Original Matrix:\n",
            " [[1 2 3]\n",
            " [4 5 6]]\n",
            "\n",
            "Transposed Matrix:\n",
            " [[1 4]\n",
            " [2 5]\n",
            " [3 6]]\n"
          ]
        }
      ]
    },
    {
      "cell_type": "markdown",
      "source": [
        "###2. Negation\n",
        "\n",
        "Negating a matrix means multiplying each element by -1."
      ],
      "metadata": {
        "id": "ZpZ_b983hFc2"
      }
    },
    {
      "cell_type": "code",
      "source": [
        "# Negate the matrix\n",
        "negated_matrix = -matrix\n",
        "\n",
        "print(\"\\nNegated Matrix:\\n\", negated_matrix)"
      ],
      "metadata": {
        "colab": {
          "base_uri": "https://localhost:8080/"
        },
        "id": "UmE_GZFMhMYV",
        "outputId": "547f8e66-3ed5-4520-ead0-b5c534809802"
      },
      "execution_count": 3,
      "outputs": [
        {
          "output_type": "stream",
          "name": "stdout",
          "text": [
            "\n",
            "Negated Matrix:\n",
            " [[-1 -2 -3]\n",
            " [-4 -5 -6]]\n"
          ]
        }
      ]
    },
    {
      "cell_type": "markdown",
      "source": [
        "###3. Determinant\n",
        "\n",
        "The determinant is a scalar value that can be computed from a square matrix and provides important properties of the matrix."
      ],
      "metadata": {
        "id": "OAnUo7YVhS73"
      }
    },
    {
      "cell_type": "code",
      "source": [
        "square_matrix = np.array([[1, 2], [3, 4]])\n",
        "\n",
        "# Calculate the determinant\n",
        "determinant_value = np.linalg.det(square_matrix)\n",
        "\n",
        "print(\"\\nSquare Matrix:\\n\", square_matrix)\n",
        "print(\"\\nDeterminant of the square matrix:\", determinant_value)"
      ],
      "metadata": {
        "colab": {
          "base_uri": "https://localhost:8080/"
        },
        "id": "Zb6VpM9ChW6n",
        "outputId": "53407daa-16ba-44de-c883-c5a1c310c52b"
      },
      "execution_count": 4,
      "outputs": [
        {
          "output_type": "stream",
          "name": "stdout",
          "text": [
            "\n",
            "Square Matrix:\n",
            " [[1 2]\n",
            " [3 4]]\n",
            "\n",
            "Determinant of the square matrix: -2.0000000000000004\n"
          ]
        }
      ]
    },
    {
      "cell_type": "markdown",
      "source": [
        "###4. Matrix Norm\n",
        "\n",
        "The norm of a matrix is a measure of its size or length. Common norms include the Frobenius norm."
      ],
      "metadata": {
        "id": "jZDvfcpkhb7E"
      }
    },
    {
      "cell_type": "code",
      "source": [
        "# Calculate Frobenius norm\n",
        "frobenius_norm = np.linalg.norm(matrix)\n",
        "\n",
        "print(\"\\nFrobenius Norm of the original matrix:\", frobenius_norm)"
      ],
      "metadata": {
        "colab": {
          "base_uri": "https://localhost:8080/"
        },
        "id": "iuHh4w46hiYG",
        "outputId": "bd598c27-f7da-4641-8fc5-a3a7a263d8a8"
      },
      "execution_count": 5,
      "outputs": [
        {
          "output_type": "stream",
          "name": "stdout",
          "text": [
            "\n",
            "Frobenius Norm of the original matrix: 9.539392014169456\n"
          ]
        }
      ]
    },
    {
      "cell_type": "markdown",
      "source": [
        "###5. Inversion\n",
        "\n",
        "The inverse of a matrix is another matrix such that when multiplied together, they yield the identity matrix. This operation is only applicable to square matrices that are non-singular."
      ],
      "metadata": {
        "id": "FvB1r1Fnh0sf"
      }
    },
    {
      "cell_type": "code",
      "source": [
        "# Invert the square matrix\n",
        "inverse_matrix = np.linalg.inv(square_matrix)\n",
        "\n",
        "print(\"\\nInverse of the square matrix:\\n\", inverse_matrix)"
      ],
      "metadata": {
        "colab": {
          "base_uri": "https://localhost:8080/"
        },
        "id": "2izCpHwYh48Q",
        "outputId": "d0174997-2f86-4dde-9368-0ff9ff959fdf"
      },
      "execution_count": 6,
      "outputs": [
        {
          "output_type": "stream",
          "name": "stdout",
          "text": [
            "\n",
            "Inverse of the square matrix:\n",
            " [[-2.   1. ]\n",
            " [ 1.5 -0.5]]\n"
          ]
        }
      ]
    },
    {
      "cell_type": "markdown",
      "source": [
        "###6. Trace\n",
        "\n",
        "The trace of a square matrix is the sum of the elements on its main diagonal."
      ],
      "metadata": {
        "id": "WExy1r3Cif3p"
      }
    },
    {
      "cell_type": "code",
      "source": [
        "# Calculate the trace of the square matrix\n",
        "trace_value = np.trace(square_matrix)\n",
        "\n",
        "print(\"\\nTrace of the square matrix:\", trace_value)"
      ],
      "metadata": {
        "colab": {
          "base_uri": "https://localhost:8080/"
        },
        "id": "3i9f01fVijxJ",
        "outputId": "a424b0dd-8241-4180-e9f8-848b59270b08"
      },
      "execution_count": 7,
      "outputs": [
        {
          "output_type": "stream",
          "name": "stdout",
          "text": [
            "\n",
            "Trace of the square matrix: 5\n"
          ]
        }
      ]
    },
    {
      "cell_type": "markdown",
      "source": [
        "#Q2: Check if matrix_A is a symmetric matrix. Modify the code below to verify this."
      ],
      "metadata": {
        "id": "HDg1k4sWjcBO"
      }
    },
    {
      "cell_type": "code",
      "source": [
        "matrix_A = np.array([[10, 20, 30],\n",
        "                      [20, 50, 60],  # Changed to make it symmetric\n",
        "                      [30, 60, 90]])\n",
        "\n",
        "# Check if the matrix is symmetric\n",
        "is_symmetric = (matrix_A == matrix_A.T).all()\n",
        "print(\"\\nIs Matrix A symmetric?:\", is_symmetric)"
      ],
      "metadata": {
        "colab": {
          "base_uri": "https://localhost:8080/"
        },
        "id": "q6gLfNe2jhsm",
        "outputId": "3cf9ed6c-11d4-4dae-8d20-2e6c1dee2f67"
      },
      "execution_count": 9,
      "outputs": [
        {
          "output_type": "stream",
          "name": "stdout",
          "text": [
            "\n",
            "Is Matrix A symmetric?: True\n"
          ]
        }
      ]
    },
    {
      "cell_type": "markdown",
      "source": [
        "#Practice Problem 1:"
      ],
      "metadata": {
        "id": "9WXBy6gXfZQY"
      }
    },
    {
      "cell_type": "code",
      "execution_count": 1,
      "metadata": {
        "colab": {
          "base_uri": "https://localhost:8080/"
        },
        "id": "bZyZm7-eeWkm",
        "outputId": "86085256-aeba-4dc3-a46b-45326487686c"
      },
      "outputs": [
        {
          "output_type": "stream",
          "name": "stdout",
          "text": [
            "Random Matrix:\n",
            " [[5 6 1 1]\n",
            " [5 4 7 7]\n",
            " [8 2 7 4]\n",
            " [9 7 7 9]]\n",
            "\n",
            "Is the random matrix symmetric?: False\n"
          ]
        }
      ],
      "source": [
        "# Create a 4x4 random matrix with values between 1 and 10\n",
        "random_matrix = np.random.randint(1, 10, (4, 4))\n",
        "\n",
        "# Create the transpose of the random matrix\n",
        "transpose_random = random_matrix.T\n",
        "\n",
        "# Check symmetry by comparing the matrix with its transpose\n",
        "is_symmetric_random = (random_matrix == transpose_random).all()\n",
        "\n",
        "# Print the results\n",
        "print(\"Random Matrix:\\n\", random_matrix)\n",
        "print(\"\\nIs the random matrix symmetric?:\", is_symmetric_random)"
      ]
    },
    {
      "cell_type": "markdown",
      "source": [
        "#Q3: What is the trace of the following matrix?"
      ],
      "metadata": {
        "id": "0rZ9UbVdjB6n"
      }
    },
    {
      "cell_type": "code",
      "source": [
        "matrix_A = np.array([[10, 20, 30],\n",
        "                      [5, 15, 25],\n",
        "                      [2, 4, 6]])\n",
        "\n",
        "# Calculate the trace of matrix A\n",
        "trace_A = np.trace(matrix_A)\n",
        "print(\"\\nTrace of Matrix A:\", trace_A)"
      ],
      "metadata": {
        "colab": {
          "base_uri": "https://localhost:8080/"
        },
        "id": "niRIt_X3jOKj",
        "outputId": "d631ea4e-d5a2-44b9-d22d-05984705c313"
      },
      "execution_count": 8,
      "outputs": [
        {
          "output_type": "stream",
          "name": "stdout",
          "text": [
            "\n",
            "Trace of Matrix A: 31\n"
          ]
        }
      ]
    },
    {
      "cell_type": "markdown",
      "source": [
        "#Practice Problem 2:"
      ],
      "metadata": {
        "id": "VPCC7SsTlDzP"
      }
    },
    {
      "cell_type": "code",
      "source": [
        "# Create a 5x5 identity matrix\n",
        "identity_matrix = np.eye(5)\n",
        "\n",
        "# Calculate the trace of the identity matrix\n",
        "trace_identity = np.trace(identity_matrix)\n",
        "\n",
        "print(\"Trace of the 5x5 identity matrix:\", trace_identity)"
      ],
      "metadata": {
        "colab": {
          "base_uri": "https://localhost:8080/"
        },
        "id": "2GIwNCNglGSk",
        "outputId": "8b19ae2d-d8b3-4fc4-9f16-00a316cf5cc0"
      },
      "execution_count": 10,
      "outputs": [
        {
          "output_type": "stream",
          "name": "stdout",
          "text": [
            "Trace of the 5x5 identity matrix: 5.0\n"
          ]
        }
      ]
    },
    {
      "cell_type": "markdown",
      "source": [
        "#Practice Problem 3:"
      ],
      "metadata": {
        "id": "72pn0ySwlm5F"
      }
    },
    {
      "cell_type": "code",
      "source": [
        "# Define the 3x3 matrix D\n",
        "matrix_D = np.array([[1, 2, 3],\n",
        "                      [0, 4, 5],\n",
        "                      [1, 0, 6]])\n",
        "\n",
        "# Calculate the determinant of matrix D\n",
        "det_D = np.linalg.det(matrix_D)\n",
        "print(\"Determinant of Matrix D:\", det_D)"
      ],
      "metadata": {
        "colab": {
          "base_uri": "https://localhost:8080/"
        },
        "id": "wimd89gElp1y",
        "outputId": "151247d9-7a7e-43d8-cc90-bc29a7b8aa5b"
      },
      "execution_count": 15,
      "outputs": [
        {
          "output_type": "stream",
          "name": "stdout",
          "text": [
            "Determinant of Matrix D: 22.000000000000004\n"
          ]
        }
      ]
    },
    {
      "cell_type": "markdown",
      "source": [
        "##Manual Cofactor Method"
      ],
      "metadata": {
        "id": "_76WPN9bmE6g"
      }
    },
    {
      "cell_type": "code",
      "source": [
        "# Define the 3x3 matrix A\n",
        "matrix_A = np.array([[1, 2, 3],\n",
        "                      [0, 4, 5],\n",
        "                      [1, 0, 6]])\n",
        "\n",
        "# Function to calculate the determinant using the cofactor method\n",
        "def determinant_3x3(matrix):\n",
        "    # Extracting elements of the first row\n",
        "    a, b, c = matrix[0]\n",
        "\n",
        "    # Calculate the determinant using cofactors\n",
        "    det = (a * (matrix[1, 1] * matrix[2, 2] - matrix[1, 2] * matrix[2, 1]) -\n",
        "           b * (matrix[1, 0] * matrix[2, 2] - matrix[1, 2] * matrix[2, 0]) +\n",
        "           c * (matrix[1, 0] * matrix[2, 1] - matrix[1, 1] * matrix[2, 0]))\n",
        "    return det\n",
        "\n",
        "# Calculate the determinant of matrix A\n",
        "det_A = determinant_3x3(matrix_A)\n",
        "print(\"Determinant of Matrix A using cofactor method:\", det_A)"
      ],
      "metadata": {
        "colab": {
          "base_uri": "https://localhost:8080/"
        },
        "id": "MRM4ZbGEmHWt",
        "outputId": "eb1fbde2-134e-4392-edf3-dd99edfdf306"
      },
      "execution_count": 16,
      "outputs": [
        {
          "output_type": "stream",
          "name": "stdout",
          "text": [
            "Determinant of Matrix A using cofactor method: 22\n"
          ]
        }
      ]
    },
    {
      "cell_type": "markdown",
      "source": [
        "#Practice Problem 4: Application in Computer Science"
      ],
      "metadata": {
        "id": "R1mfPXrdmlM5"
      }
    },
    {
      "cell_type": "code",
      "source": [
        "# Generate a random 3x3 matrix representing pixel intensities\n",
        "# Pixel intensities between 0 and 255 (common for grayscale images)\n",
        "matrix_pixel_intensities = np.random.randint(0, 256, (3, 3))\n",
        "\n",
        "# Calculate the transpose of the matrix\n",
        "transpose_matrix = np.transpose(matrix_pixel_intensities)\n",
        "\n",
        "# Calculate the determinant of the matrix\n",
        "determinant_matrix = np.linalg.det(matrix_pixel_intensities)\n",
        "\n",
        "# Display the results\n",
        "print(\"Original 3x3 Matrix (Pixel Intensities):\")\n",
        "print(matrix_pixel_intensities)\n",
        "print(\"\\nTranspose of the Matrix:\")\n",
        "print(transpose_matrix)\n",
        "print(\"\\nDeterminant of the Matrix:\", determinant_matrix)"
      ],
      "metadata": {
        "colab": {
          "base_uri": "https://localhost:8080/"
        },
        "id": "d_My_FrcmrPj",
        "outputId": "9f211add-cf42-4812-c7e7-05424b9a61dd"
      },
      "execution_count": 17,
      "outputs": [
        {
          "output_type": "stream",
          "name": "stdout",
          "text": [
            "Original 3x3 Matrix (Pixel Intensities):\n",
            "[[244 209 186]\n",
            " [117 212 137]\n",
            " [ 64 179  41]]\n",
            "\n",
            "Transpose of the Matrix:\n",
            "[[244 117  64]\n",
            " [209 212 179]\n",
            " [186 137  41]]\n",
            "\n",
            "Determinant of the Matrix: -1661075.0000000007\n"
          ]
        }
      ]
    },
    {
      "cell_type": "markdown",
      "source": [
        "#Practice Problem 5: Symmetric Matrices in Machine Learning"
      ],
      "metadata": {
        "id": "E5-quDMSnEUk"
      }
    },
    {
      "cell_type": "code",
      "source": [
        "# Create a random 3x3 matrix\n",
        "matrix = np.random.randint(1, 10, (3, 3))\n",
        "\n",
        "# Create a symmetric matrix by averaging the matrix with its transpose\n",
        "symmetric_matrix = (matrix + matrix.T) / 2\n",
        "\n",
        "# Verify properties\n",
        "is_symmetric = np.array_equal(symmetric_matrix, symmetric_matrix.T)\n",
        "\n",
        "# Display the results\n",
        "print(\"Original 3x3 Matrix:\")\n",
        "print(matrix)\n",
        "print(\"\\nSymmetric Matrix:\")\n",
        "print(symmetric_matrix)\n",
        "print(\"\\nIs the matrix symmetric?\", is_symmetric)"
      ],
      "metadata": {
        "colab": {
          "base_uri": "https://localhost:8080/"
        },
        "id": "1xXCtfRJnL-F",
        "outputId": "7f47739f-2e77-44e2-e85e-27ed4dca0690"
      },
      "execution_count": 18,
      "outputs": [
        {
          "output_type": "stream",
          "name": "stdout",
          "text": [
            "Original 3x3 Matrix:\n",
            "[[3 8 9]\n",
            " [7 5 8]\n",
            " [5 6 8]]\n",
            "\n",
            "Symmetric Matrix:\n",
            "[[3.  7.5 7. ]\n",
            " [7.5 5.  7. ]\n",
            " [7.  7.  8. ]]\n",
            "\n",
            "Is the matrix symmetric? True\n"
          ]
        }
      ]
    }
  ]
}