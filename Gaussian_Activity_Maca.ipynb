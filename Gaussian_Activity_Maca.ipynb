{
  "nbformat": 4,
  "nbformat_minor": 0,
  "metadata": {
    "colab": {
      "provenance": [],
      "authorship_tag": "ABX9TyP6NHdniDWE893AOU6rYZI8",
      "include_colab_link": true
    },
    "kernelspec": {
      "name": "python3",
      "display_name": "Python 3"
    },
    "language_info": {
      "name": "python"
    }
  },
  "cells": [
    {
      "cell_type": "markdown",
      "metadata": {
        "id": "view-in-github",
        "colab_type": "text"
      },
      "source": [
        "<a href=\"https://colab.research.google.com/github/Bochok24/Matrix/blob/main/Gaussian_Activity_Maca.ipynb\" target=\"_parent\"><img src=\"https://colab.research.google.com/assets/colab-badge.svg\" alt=\"Open In Colab\"/></a>"
      ]
    },
    {
      "cell_type": "markdown",
      "source": [
        "#Plate-Gauss Elimination"
      ],
      "metadata": {
        "id": "2kkxwKPSQ93N"
      }
    },
    {
      "cell_type": "code",
      "execution_count": 1,
      "metadata": {
        "id": "V8FrsYaWNgf8"
      },
      "outputs": [],
      "source": [
        "import numpy as np\n",
        "\n",
        "# Function to perform Naïve Gaussian Elimination\n",
        "def gaussian_elimination(A, b):\n",
        "    n = len(b)\n",
        "    # Forward elimination\n",
        "    for i in range(n):\n",
        "        # Make the diagonal contain all 1s\n",
        "        for j in range(i + 1, n):\n",
        "            factor = A[j][i] / A[i][i]\n",
        "            A[j] = A[j] - factor * A[i]\n",
        "            b[j] = b[j] - factor * b[i]\n",
        "    return A, b"
      ]
    },
    {
      "cell_type": "markdown",
      "source": [
        "## Problem 1: Naive Gauss Elimination"
      ],
      "metadata": {
        "id": "YO3eBqpTQxrh"
      }
    },
    {
      "cell_type": "code",
      "source": [
        "A1 = np.array([[4, 1, -1], [5, 1, 2], [6, 1, 1]], dtype=float)\n",
        "b1 = np.array([-2, 4, 6], dtype=float)\n",
        "\n",
        "# Solve the system\n",
        "A1_reduced, b1_reduced = gaussian_elimination(A1.copy(), b1.copy())\n",
        "print(\"Reduced Matrix A:\\n\", A1_reduced)\n",
        "print(\"Reduced Matrix b:\\n\", b1_reduced)"
      ],
      "metadata": {
        "colab": {
          "base_uri": "https://localhost:8080/"
        },
        "id": "ao8hPEO5RQ0_",
        "outputId": "08c1e1ad-3fdc-42b5-f6e0-7118a427564f"
      },
      "execution_count": 2,
      "outputs": [
        {
          "output_type": "stream",
          "name": "stdout",
          "text": [
            "Reduced Matrix A:\n",
            " [[ 4.    1.   -1.  ]\n",
            " [ 0.   -0.25  3.25]\n",
            " [ 0.    0.   -4.  ]]\n",
            "Reduced Matrix b:\n",
            " [-2.   6.5 -4. ]\n"
          ]
        }
      ]
    },
    {
      "cell_type": "markdown",
      "source": [
        "##Problem 2: Naive Gauss Elimination with chopping to 4 significant digits"
      ],
      "metadata": {
        "id": "LOEWIoVnR2bz"
      }
    },
    {
      "cell_type": "code",
      "source": [
        "def chop(value, significant_digits):\n",
        "    factor = 10 ** significant_digits\n",
        "    return np.floor(value * factor) / factor\n",
        "\n",
        "def gaussian_elimination_chopped(A, b, significant_digits):# Solve the system with chopping\n",
        "    n = len(b)\n",
        "    for i in range(n):\n",
        "        for j in range(i + 1, n):\n",
        "            factor = chop(A[j][i] / A[i][i], significant_digits)\n",
        "            A[j] = A[j] - factor * A[i]\n",
        "            b[j] = chop(b[j] - factor * b[i], significant_digits)\n",
        "    return A, b\n",
        "\n",
        "A2 = np.array([[4, 1, -1], [5, 1, 2], [6, 1, 1]], dtype=float)\n",
        "b2 = np.array([-2, 4, 6], dtype=float)\n",
        "\n",
        "A2_reduced, b2_reduced = gaussian_elimination_chopped(A2.copy(), b2.copy(), 4)\n",
        "print(\"Chopped Reduced Matrix A:\\n\", A2_reduced)\n",
        "print(\"Chopped Reduced Matrix b:\\n\", b2_reduced)"
      ],
      "metadata": {
        "colab": {
          "base_uri": "https://localhost:8080/"
        },
        "id": "iVcuj2aySIHZ",
        "outputId": "7d06c5ba-3c3e-43a3-c2c0-27d5ec9fc563"
      },
      "execution_count": 6,
      "outputs": [
        {
          "output_type": "stream",
          "name": "stdout",
          "text": [
            "Chopped Reduced Matrix A:\n",
            " [[ 4.    1.   -1.  ]\n",
            " [ 0.   -0.25  3.25]\n",
            " [ 0.    0.   -4.  ]]\n",
            "Chopped Reduced Matrix b:\n",
            " [-2.   6.5 -4. ]\n"
          ]
        }
      ]
    },
    {
      "cell_type": "markdown",
      "source": [
        "##Problem 3: Determinant using Forward Elimination"
      ],
      "metadata": {
        "id": "43jLxLIBSdwf"
      }
    },
    {
      "cell_type": "code",
      "source": [
        "def determinant(A):\n",
        "    n = len(A)\n",
        "    det = 1\n",
        "    for i in range(n):\n",
        "        det *= A[i][i]\n",
        "    return det\n",
        "\n",
        "A3 = np.array([[5, -1, 5], [-3, 2.099, 6], [10, -7, 0]], dtype=float)\n",
        "A3_reduced, _ = gaussian_elimination(A3.copy(), np.zeros(A3.shape[0]))\n",
        "det_A3 = determinant(A3_reduced)\n",
        "print(\"Determinant of A3:\", det_A3)"
      ],
      "metadata": {
        "colab": {
          "base_uri": "https://localhost:8080/"
        },
        "id": "u15TYT87Siln",
        "outputId": "3ae29f43-a714-41c4-95a3-c2810f82bd96"
      },
      "execution_count": 8,
      "outputs": [
        {
          "output_type": "stream",
          "name": "stdout",
          "text": [
            "Determinant of A3: 150.05\n"
          ]
        }
      ]
    },
    {
      "cell_type": "markdown",
      "source": [
        "##Problem 4: Determinant of a Given Matrix after Forward Elimination"
      ],
      "metadata": {
        "id": "7_P81eTvaW4k"
      }
    },
    {
      "source": [
        "def gaussian_elimination(A, b):\n",
        "    n = len(b)\n",
        "    # Forward elimination\n",
        "    for i in range(n):\n",
        "        # Make the diagonal contain all 1s\n",
        "        for j in range(i + 1, n):\n",
        "            factor = A[j][i] / A[i][i]\n",
        "            A[j] = A[j] - factor * A[i]\n",
        "            b[j] = b[j] - factor * b[i]\n",
        "    return A, b\n",
        "\n",
        "def determinant(A):\n",
        "    \"\"\"\n",
        "    Calculates the determinant of a matrix after Gaussian elimination.\n",
        "\n",
        "    Handles the case where the matrix becomes singular during elimination.\n",
        "    \"\"\"\n",
        "    n = len(A)\n",
        "\n",
        "    # Check if any diagonal element is zero after elimination\n",
        "    if any(A[i][i] == 0 for i in range(n)):\n",
        "        print(\"Matrix is singular after elimination. Determinant is 0.\")\n",
        "        return 0\n",
        "\n",
        "    det = 1\n",
        "    for i in range(n):\n",
        "        det *= A[i][i]\n",
        "    return det\n",
        "\n",
        "# Given matrix A and its reduced form B\n",
        "A = np.array([[25, 5, 1], [64, -4.8, 1], [144, 0.7, 1]], dtype=float)\n",
        "b = np.array([0, 0, 0], dtype=float)  # Assuming b is a zero vector\n",
        "\n",
        "# Perform Gaussian elimination\n",
        "A_reduced, _ = gaussian_elimination(A.copy(), b.copy())\n",
        "\n",
        "# Calculate determinant\n",
        "det_A = determinant(A_reduced)\n",
        "print(\"Determinant of A:\", det_A)"
      ],
      "cell_type": "code",
      "metadata": {
        "colab": {
          "base_uri": "https://localhost:8080/"
        },
        "id": "vFnr4ID_fN96",
        "outputId": "b6f6b331-55f3-42ce-ed08-97e41774a9e1"
      },
      "execution_count": 11,
      "outputs": [
        {
          "output_type": "stream",
          "name": "stdout",
          "text": [
            "Determinant of A: 998.5\n"
          ]
        }
      ]
    },
    {
      "cell_type": "markdown",
      "source": [
        "##Problem 5: Gaussian Elimination with Partial Pivoting"
      ],
      "metadata": {
        "id": "pJ_TZQNOgHF4"
      }
    },
    {
      "source": [
        "def gaussian_elimination_partial_pivoting(A, b):\n",
        "    \"\"\"\n",
        "    Solves a system of linear equations using Gaussian elimination with partial pivoting.\n",
        "\n",
        "    Args:\n",
        "        A: The coefficient matrix.\n",
        "        b: The constant vector.\n",
        "\n",
        "    Returns:\n",
        "        x: The solution vector.\n",
        "    \"\"\"\n",
        "    n = len(b)\n",
        "\n",
        "    # Forward elimination with partial pivoting\n",
        "    for i in range(n):\n",
        "        # Find the pivot row\n",
        "        pivot_row = i\n",
        "        for j in range(i + 1, n):\n",
        "            if abs(A[j][i]) > abs(A[pivot_row][i]):\n",
        "                pivot_row = j\n",
        "\n",
        "        # Swap rows if necessary\n",
        "        if pivot_row != i:\n",
        "            A[[i, pivot_row]] = A[[pivot_row, i]]\n",
        "            b[[i, pivot_row]] = b[[pivot_row, i]]\n",
        "\n",
        "        # Eliminate elements below the pivot\n",
        "        for j in range(i + 1, n):\n",
        "            factor = A[j][i] / A[i][i]\n",
        "            A[j] = A[j] - factor * A[i]\n",
        "            b[j] = b[j] - factor * b[i]\n",
        "\n",
        "    # Back substitution\n",
        "    x = np.zeros(n)\n",
        "    for i in range(n - 1, -1, -1):\n",
        "        x[i] = (b[i] - np.dot(A[i][i + 1:], x[i + 1:])) / A[i][i]\n",
        "\n",
        "    return x\n",
        "\n",
        "# Given system of equations\n",
        "A = np.array([[4, 1, -1], [5, 1, 2], [6, 1, 1]], dtype=float)\n",
        "b = np.array([-2, 4, 6], dtype=float)\n",
        "\n",
        "# Solve using Gaussian elimination with partial pivoting\n",
        "x = gaussian_elimination_partial_pivoting(A.copy(), b.copy())\n",
        "\n",
        "print(\"Solution:\")\n",
        "print(x)"
      ],
      "cell_type": "code",
      "metadata": {
        "colab": {
          "base_uri": "https://localhost:8080/"
        },
        "id": "AQ2j9fduhAr3",
        "outputId": "5d630822-6f6e-4fa3-d562-33019e0137c4"
      },
      "execution_count": 12,
      "outputs": [
        {
          "output_type": "stream",
          "name": "stdout",
          "text": [
            "Solution:\n",
            "[  3. -13.   1.]\n"
          ]
        }
      ]
    },
    {
      "cell_type": "markdown",
      "source": [
        "##Problem 6: Gaussian Elimination with Partial Pivoting and Chopping"
      ],
      "metadata": {
        "id": "Sy20uCKsiFAy"
      }
    },
    {
      "source": [
        "def chop(value, significant_digits):\n",
        "    \"\"\"Chops a value to the specified number of significant digits.\"\"\"\n",
        "    factor = 10 ** significant_digits\n",
        "    return np.floor(value * factor) / factor\n",
        "\n",
        "def gaussian_elimination_partial_pivoting_chopped(A, b, significant_digits):\n",
        "    \"\"\"\n",
        "    Solves a system of linear equations using Gaussian elimination with partial pivoting\n",
        "    and chopping to the specified number of significant digits.\n",
        "\n",
        "    Args:\n",
        "        A: The coefficient matrix.\n",
        "        b: The constant vector.\n",
        "        significant_digits: The number of significant digits to chop to.\n",
        "\n",
        "    Returns:\n",
        "        x: The solution vector.\n",
        "    \"\"\"\n",
        "    n = len(b)\n",
        "\n",
        "    # Forward elimination with partial pivoting\n",
        "    for i in range(n):\n",
        "        # Find the pivot row\n",
        "        pivot_row = i\n",
        "        for j in range(i + 1, n):\n",
        "            if abs(A[j][i]) > abs(A[pivot_row][i]):\n",
        "                pivot_row = j\n",
        "\n",
        "        # Swap rows if necessary\n",
        "        if pivot_row != i:\n",
        "            A[[i, pivot_row]] = A[[pivot_row, i]]\n",
        "            b[[i, pivot_row]] = b[[pivot_row, i]]\n",
        "\n",
        "        # Eliminate elements below the pivot\n",
        "        for j in range(i + 1, n):\n",
        "            factor = chop(A[j][i] / A[i][i], significant_digits)  # Chop the factor\n",
        "            A[j] = A[j] - factor * A[i]\n",
        "            for k in range(len(A[j])):\n",
        "                A[j][k] = chop(A[j][k], significant_digits)\n",
        "            b[j] = chop(b[j] - factor * b[i], significant_digits) # Chop the result\n",
        "\n",
        "\n",
        "    # Back substitution\n",
        "    x = np.zeros(n)\n",
        "    for i in range(n - 1, -1, -1):\n",
        "        x[i] = chop((b[i] - np.dot(A[i][i + 1:], x[i + 1:])) / A[i][i], significant_digits)  # Chop the result\n",
        "\n",
        "    return x\n",
        "\n",
        "# Given system of equations\n",
        "A = np.array([[4, 1, -1], [5, 1, 2], [6, 1, 1]], dtype=float)\n",
        "b = np.array([-2, 4, 6], dtype=float)\n",
        "\n",
        "# Solve using Gaussian elimination with partial pivoting and chopping\n",
        "x = gaussian_elimination_partial_pivoting_chopped(A.copy(), b.copy(), 4)\n",
        "\n",
        "print(\"Solution with chopping:\")\n",
        "print(x)"
      ],
      "cell_type": "code",
      "metadata": {
        "colab": {
          "base_uri": "https://localhost:8080/"
        },
        "id": "BmEvylUPiu3B",
        "outputId": "437d7784-54da-4955-9c00-5031438acb2f"
      },
      "execution_count": 13,
      "outputs": [
        {
          "output_type": "stream",
          "name": "stdout",
          "text": [
            "Solution with chopping:\n",
            "[  3.0002 -13.0004   0.9992]\n"
          ]
        }
      ]
    }
  ]
}