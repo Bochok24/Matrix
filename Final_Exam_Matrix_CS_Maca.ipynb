{
  "nbformat": 4,
  "nbformat_minor": 0,
  "metadata": {
    "colab": {
      "provenance": [],
      "toc_visible": true,
      "authorship_tag": "ABX9TyPu3l6bymBj6+vZQjSlR9Q3",
      "include_colab_link": true
    },
    "kernelspec": {
      "name": "python3",
      "display_name": "Python 3"
    },
    "language_info": {
      "name": "python"
    }
  },
  "cells": [
    {
      "cell_type": "markdown",
      "metadata": {
        "id": "view-in-github",
        "colab_type": "text"
      },
      "source": [
        "<a href=\"https://colab.research.google.com/github/Bochok24/Matrix/blob/main/Final_Exam_Matrix_CS_Maca.ipynb\" target=\"_parent\"><img src=\"https://colab.research.google.com/assets/colab-badge.svg\" alt=\"Open In Colab\"/></a>"
      ]
    },
    {
      "cell_type": "markdown",
      "source": [
        "#Matrix Generation\n"
      ],
      "metadata": {
        "id": "xOWgiXr8orf9"
      }
    },
    {
      "cell_type": "code",
      "execution_count": 1,
      "metadata": {
        "colab": {
          "base_uri": "https://localhost:8080/"
        },
        "id": "HFyznWcynkdE",
        "outputId": "e7a34cc5-46f9-4991-f083-7a858b4ec245"
      },
      "outputs": [
        {
          "output_type": "stream",
          "name": "stdout",
          "text": [
            "Generated 3x4 Matrix:\n",
            "[[ 5 17 20 11]\n",
            " [20  1 17 17]\n",
            " [19 11  4  5]]\n",
            "\n",
            "Coefficient Matrix (A):\n",
            "[[ 5 17 20]\n",
            " [20  1 17]\n",
            " [19 11  4]]\n",
            "\n",
            "Right-hand Side Vector (b):\n",
            "[11 17  5]\n"
          ]
        }
      ],
      "source": [
        "import numpy as np\n",
        "\n",
        "# Step 1: Generate a 3x4 random matrix\n",
        "matrix_3x4 = np.random.randint(1, 21, size=(3, 4))  # Adjust range as needed\n",
        "A = matrix_3x4[:, :3]  # Coefficient matrix (first 3 columns)\n",
        "b = matrix_3x4[:, 3]   # Right-hand side vector (last column)\n",
        "\n",
        "print(\"Generated 3x4 Matrix:\")\n",
        "print(matrix_3x4)\n",
        "print(\"\\nCoefficient Matrix (A):\")\n",
        "print(A)\n",
        "print(\"\\nRight-hand Side Vector (b):\")\n",
        "print(b)"
      ]
    },
    {
      "cell_type": "markdown",
      "source": [
        "#Verification"
      ],
      "metadata": {
        "id": "_KvU2vLsoilz"
      }
    },
    {
      "cell_type": "markdown",
      "source": [],
      "metadata": {
        "id": "9k95ax2Qoo1i"
      }
    },
    {
      "cell_type": "code",
      "source": [
        "# Solve using Matrix Inverse Method\n",
        "try:\n",
        "    A_inv = np.linalg.inv(A)  # Compute A^-1\n",
        "    x_manual = np.dot(A_inv, b)  # x = A^-1 * b\n",
        "    print(\"\\nSolution using Matrix Inverse Method:\")\n",
        "    print(x_manual)\n",
        "except np.linalg.LinAlgError:\n",
        "    print(\"\\nMatrix A is singular and cannot be inverted.\")\n",
        "\n",
        "# Solve using Gaussian Elimination\n",
        "x_gaussian = np.linalg.solve(A, b)  # Direct Gaussian elimination\n",
        "print(\"\\nSolution using Gaussian Elimination (NumPy):\")\n",
        "print(x_gaussian)\n",
        "\n",
        "# Verify the solution\n",
        "b_check = np.dot(A, x_gaussian)  # Recompute b using A and the computed x\n",
        "print(\"\\nVerification (Ax = b):\")\n",
        "print(b_check)"
      ],
      "metadata": {
        "colab": {
          "base_uri": "https://localhost:8080/"
        },
        "id": "CTFQGoEGolAF",
        "outputId": "76154fa8-7b93-4749-85f3-45eb6bff8d3e"
      },
      "execution_count": 2,
      "outputs": [
        {
          "output_type": "stream",
          "name": "stdout",
          "text": [
            "\n",
            "Solution using Matrix Inverse Method:\n",
            "[ 0.26478718 -0.25870647  0.7037037 ]\n",
            "\n",
            "Solution using Gaussian Elimination (NumPy):\n",
            "[ 0.26478718 -0.25870647  0.7037037 ]\n",
            "\n",
            "Verification (Ax = b):\n",
            "[11. 17.  5.]\n"
          ]
        }
      ]
    }
  ]
}