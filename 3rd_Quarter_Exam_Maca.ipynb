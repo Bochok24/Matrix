{
  "nbformat": 4,
  "nbformat_minor": 0,
  "metadata": {
    "colab": {
      "provenance": []
    },
    "kernelspec": {
      "name": "python3",
      "display_name": "Python 3"
    },
    "language_info": {
      "name": "python"
    }
  },
  "cells": [
    {
      "cell_type": "markdown",
      "source": [
        "#John Dave L. Maca\n",
        "\n",
        "###3rd Quarter Exam : Solving Systems of Equations Using Matrix Inverse"
      ],
      "metadata": {
        "id": "x8EBH_EhlClS"
      }
    },
    {
      "cell_type": "markdown",
      "source": [
        "#Part 1: Theory"
      ],
      "metadata": {
        "id": "rBwGHUe5laC7"
      }
    },
    {
      "cell_type": "code",
      "source": [
        "import numpy as np\n",
        "\n",
        "# Step 1: Define the matrix A (5x5) and vector B (5x1)\n",
        "A = np.array([[3, 2, -1, 0, 0],\n",
        "              [2, -1, 3, 0, 0],\n",
        "              [1, 2, 4, 3, 0],\n",
        "              [0, 1, -2, 2, 1],\n",
        "              [0, 0, 3, 1, 4]])\n",
        "\n",
        "B = np.array([1, 2, 3, 4, 5])\n",
        "\n",
        "# Step 2: Calculate the inverse of matrix A\n",
        "A_inv = np.linalg.inv(A)\n",
        "\n",
        "# Step 3: Calculate the solution vector X\n",
        "X = np.dot(A_inv, B)\n",
        "\n",
        "# Step 4: Display the solution\n",
        "print(\"The solution vector X is:\")\n",
        "print(X)"
      ],
      "metadata": {
        "colab": {
          "base_uri": "https://localhost:8080/"
        },
        "id": "YQno_hpqlfwK",
        "outputId": "9c48331e-3ea9-4db0-9011-a6b0f3457361"
      },
      "execution_count": 29,
      "outputs": [
        {
          "output_type": "stream",
          "name": "stdout",
          "text": [
            "The solution vector X is:\n",
            "[ 0.9057971  -0.99275362 -0.26811594  1.7173913   1.02173913]\n"
          ]
        }
      ]
    },
    {
      "cell_type": "markdown",
      "source": [
        "#Part 2: Application to Real-World Computer Science Problem"
      ],
      "metadata": {
        "id": "hMEb5F71lq47"
      }
    },
    {
      "cell_type": "code",
      "source": [
        "# Step 1: Define the coefficient matrix A (5x5) and the constant vector B (5x1)\n",
        "A = np.array([[3, 2, 1, 1, 0],\n",
        "              [1, 4, 2, 0, 1],\n",
        "              [2, 3, 4, 1, 0],\n",
        "              [1, 1, 3, 5, 0],\n",
        "              [0, 1, 2, 4, 3]])\n",
        "\n",
        "B = np.array([100, 150, 120, 110, 140])\n",
        "\n",
        "# Step 2: Calculate the inverse of matrix A\n",
        "A_inv = np.linalg.inv(A)\n",
        "\n",
        "# Step 3: Calculate the solution vector X (the data flows between servers)\n",
        "X = np.dot(A_inv, B)\n",
        "\n",
        "# Step 4: Display the solution\n",
        "print(\"The data flow between the servers (x1, x2, x3, x4, x5) is:\")\n",
        "print(X)"
      ],
      "metadata": {
        "colab": {
          "base_uri": "https://localhost:8080/"
        },
        "id": "6GjA7OLvlzlA",
        "outputId": "de0fa73f-af30-41e2-da7f-bf5b904c8bd4"
      },
      "execution_count": 30,
      "outputs": [
        {
          "output_type": "stream",
          "name": "stdout",
          "text": [
            "The data flow between the servers (x1, x2, x3, x4, x5) is:\n",
            "[ 7.36462094 32.23826715 -1.62454874 15.05415162 16.93140794]\n"
          ]
        }
      ]
    },
    {
      "cell_type": "markdown",
      "source": [
        "#Part 3: Step-by-Step Instructions"
      ],
      "metadata": {
        "id": "SzandlsWl9ir"
      }
    },
    {
      "cell_type": "code",
      "execution_count": 31,
      "metadata": {
        "colab": {
          "base_uri": "https://localhost:8080/"
        },
        "id": "xeqUTKEnUMrs",
        "outputId": "c3ac4442-6d1a-4ee1-d842-5657392488e0"
      },
      "outputs": [
        {
          "output_type": "stream",
          "name": "stdout",
          "text": [
            "Solution (Unknowns):\n",
            "[ 7.36462094 32.23826715 -1.62454874 15.05415162 16.93140794]\n"
          ]
        }
      ],
      "source": [
        "# Importing the necessary library\n",
        "import numpy as np\n",
        "\n",
        "# Coefficient matrix A (5x5 matrix)\n",
        "A = np.array([\n",
        "    [3, 2, 1, 1, 0],\n",
        "    [1, 4, 2, 0, 1],\n",
        "    [2, 3, 4, 1, 0],\n",
        "    [1, 1, 3, 5, 0],\n",
        "    [0, 1, 2, 4, 3]\n",
        "])\n",
        "\n",
        "# Constant matrix B (5x1 matrix)\n",
        "B = np.array([100, 150, 120, 110, 140])\n",
        "\n",
        "# Checking if matrix A is invertible (determinant should not be zero)\n",
        "det_A = np.linalg.det(A)\n",
        "if det_A == 0:\n",
        "    print(\"Matrix A is singular and cannot be inverted!\")\n",
        "else:\n",
        "    # Finding the inverse of matrix A\n",
        "    A_inv = np.linalg.inv(A)\n",
        "\n",
        "    # Solving for X using the matrix inverse method\n",
        "    X = np.dot(A_inv, B)\n",
        "\n",
        "    print(\"Solution (Unknowns):\")\n",
        "    print(X)"
      ]
    },
    {
      "cell_type": "markdown",
      "source": [
        "#Part 4: Practice Problems"
      ],
      "metadata": {
        "id": "N7IvwjQSmHI5"
      }
    },
    {
      "cell_type": "markdown",
      "source": [
        "##Problem 1"
      ],
      "metadata": {
        "id": "kMJOJwWaZYhg"
      }
    },
    {
      "cell_type": "code",
      "source": [
        "import numpy as np\n",
        "\n",
        "A = np.array([\n",
        "    [2, 1, -1],\n",
        "    [-1, 3, 2],\n",
        "    [1, -2, 4],\n",
        "\n",
        "])\n",
        "\n",
        "B = np.array([5, 6, 7])\n",
        "\n",
        "det_A = np.linalg.det(A)\n",
        "if det_A == 0:\n",
        "    print(\"Matrix A is singular and cannot be inverted!\")\n",
        "else:\n",
        "    # Finding the inverse of matrix A\n",
        "    A_inv = np.linalg.inv(A)\n",
        "\n",
        "    # Solving for X using the matrix inverse method\n",
        "    X = np.dot(A_inv, B)\n",
        "\n",
        "    print(\"Solution (Unknowns):\")\n",
        "    print(X)"
      ],
      "metadata": {
        "colab": {
          "base_uri": "https://localhost:8080/"
        },
        "id": "ycghD7rnWr9d",
        "outputId": "3f088b3b-2e63-44e8-e42a-9c32c5f143d4"
      },
      "execution_count": 32,
      "outputs": [
        {
          "output_type": "stream",
          "name": "stdout",
          "text": [
            "Solution (Unknowns):\n",
            "[2.64102564 1.61538462 1.8974359 ]\n"
          ]
        }
      ]
    },
    {
      "cell_type": "markdown",
      "source": [
        "##Problem 2"
      ],
      "metadata": {
        "id": "lF-sPzZ9ZjVY"
      }
    },
    {
      "cell_type": "code",
      "source": [
        "import numpy as np\n",
        "\n",
        "A = np.array([\n",
        "    [5, 3, 1, 1, 0],\n",
        "    [4, 6, 2, 0, 1],\n",
        "    [2, 7, 3, 1, 0],\n",
        "    [1, 2, 4, 5, 0],\n",
        "    [3, 4, 5, 0, 6]\n",
        "])\n",
        "\n",
        "B = np.array([200, 300, 150, 120, 250])\n",
        "\n",
        "det_A = np.linalg.det(A)\n",
        "if det_A == 0:\n",
        "    print(\"Matrix A is singular and cannot be inverted!\")\n",
        "else:\n",
        "    # Finding the inverse of matrix A\n",
        "    A_inv = np.linalg.inv(A)\n",
        "\n",
        "    # Solving for X using the matrix inverse method\n",
        "    X = np.dot(A_inv, B)\n",
        "\n",
        "    print(\"Solution (Unknowns):\")\n",
        "    print(X)"
      ],
      "metadata": {
        "colab": {
          "base_uri": "https://localhost:8080/"
        },
        "id": "h2_Ai5U4YFB2",
        "outputId": "ce7a8a17-a13e-4204-b22e-0e0cd6881073"
      },
      "execution_count": 33,
      "outputs": [
        {
          "output_type": "stream",
          "name": "stdout",
          "text": [
            "Solution (Unknowns):\n",
            "[ -23.86666667  137.6        -336.          242.53333333  241.86666667]\n"
          ]
        }
      ]
    },
    {
      "cell_type": "markdown",
      "source": [
        "##Problem 3"
      ],
      "metadata": {
        "id": "T2myh0ebbPij"
      }
    },
    {
      "cell_type": "code",
      "source": [
        "import numpy as np\n",
        "import numpy.linalg as LA\n",
        "\n",
        "A = np.array([[2, 1, 0, 0, 0, 0, 0],\n",
        "             [1, 2, 1, 0, 0, 0, 0],\n",
        "             [0, 1, 2, 1, 0, 0, 0],\n",
        "             [0, 0, 1, 2, 1, 0, 0],\n",
        "             [0, 0, 1, 2, 2, 0, 0],\n",
        "             [0, 0, 0, 1, 2, 1, 0],\n",
        "             [0, 0, 0, 0, 1, 2, 1]])\n",
        "\n",
        "b = np.array([5, 6, 7, 8, 9, 10, 11])\n",
        "\n",
        "# Calculate the inverse of A\n",
        "A_inv = LA.inv(A)\n",
        "\n",
        "# Solve for x\n",
        "x = np.dot(A_inv, b)\n",
        "print(\"The unknown variables are:\", x)"
      ],
      "metadata": {
        "colab": {
          "base_uri": "https://localhost:8080/"
        },
        "id": "_PZIh4r5bTKG",
        "outputId": "a91abe73-cb80-415c-d4d2-1adcdf760dec"
      },
      "execution_count": 34,
      "outputs": [
        {
          "output_type": "stream",
          "name": "stdout",
          "text": [
            "The unknown variables are: [ 1.8  1.4  1.4  2.8  1.   5.2 -0.4]\n"
          ]
        }
      ]
    },
    {
      "cell_type": "markdown",
      "source": [
        "##Problem 4"
      ],
      "metadata": {
        "id": "zPxGdxH1e8Xx"
      }
    },
    {
      "cell_type": "code",
      "source": [
        "import numpy as np\n",
        "\n",
        "# Coefficient matrix A\n",
        "A = np.array([\n",
        "    [2, 1, -1, 0, 0],\n",
        "    [-1, 3, 2, 0, 0],\n",
        "    [1, -2, 4, 0, 0],\n",
        "    [1, 1, 1, 1, 1],\n",
        "    [2, 3, 1, 2, 1]\n",
        "])\n",
        "\n",
        "# Constant matrix B\n",
        "B = np.array([10, 5, 12, 20, 30])\n",
        "\n",
        "# Calculate the inverse of A\n",
        "A_inv = np.linalg.inv(A)\n",
        "\n",
        "# Solve for X (the unknown variables)\n",
        "X = np.dot(A_inv, B)\n",
        "\n",
        "print(\"Values of the unknowns (x1, x2, x3, x4, x5):\")\n",
        "print(X)"
      ],
      "metadata": {
        "colab": {
          "base_uri": "https://localhost:8080/"
        },
        "id": "BFTsq3y8e_zg",
        "outputId": "c80af764-88d0-4939-a5d4-6e6cbdf12d39"
      },
      "execution_count": 35,
      "outputs": [
        {
          "output_type": "stream",
          "name": "stdout",
          "text": [
            "Values of the unknowns (x1, x2, x3, x4, x5):\n",
            "[5.38461538 1.76923077 2.53846154 1.07692308 9.23076923]\n"
          ]
        }
      ]
    },
    {
      "cell_type": "markdown",
      "source": [
        "##Problem 5"
      ],
      "metadata": {
        "id": "aA6YzNg9fH9C"
      }
    },
    {
      "cell_type": "code",
      "source": [
        "import numpy as np\n",
        "\n",
        "def solve_linear_system(A, B):\n",
        "    try:\n",
        "        U, S, V = np.linalg.svd(A)\n",
        "        A_pinv = np.linalg.pinv(A)\n",
        "\n",
        "        X = np.dot(A_pinv, B)\n",
        "        print(\"The unknown variables are:\", X)\n",
        "        return X\n",
        "    except np.linalg.LinAlgError:\n",
        "        print(\"Matrix is singular or ill-conditioned!\")\n",
        "        return None"
      ],
      "metadata": {
        "id": "acbfP3SmfKIV"
      },
      "execution_count": 36,
      "outputs": []
    },
    {
      "cell_type": "markdown",
      "source": [
        "##Funtion Test 1\n"
      ],
      "metadata": {
        "id": "2o8F80s6ikSt"
      }
    },
    {
      "cell_type": "code",
      "source": [
        "import numpy as np\n",
        "\n",
        "A = np.array([\n",
        "    [1, 2, 3, 4],\n",
        "    [2, -1, 1, 2],\n",
        "    [3, 1, -1, -1],\n",
        "    [1, 0, 2, 3]\n",
        "])\n",
        "\n",
        "B = np.array([14, 8, 5, 13])\n",
        "\n",
        "\n",
        "solution = solve_linear_system(A, B)\n",
        "\n",
        "if solution is not None:\n",
        "    print(\"Solution (x1, x2, x3, x4):\", solution)"
      ],
      "metadata": {
        "colab": {
          "base_uri": "https://localhost:8080/"
        },
        "id": "1ozptbCMhgEl",
        "outputId": "eec58aee-430a-4420-d3ab-856c5322d267"
      },
      "execution_count": 37,
      "outputs": [
        {
          "output_type": "stream",
          "name": "stdout",
          "text": [
            "The unknown variables are: [2.38562753 0.53744939 1.16093117 1.99493927]\n",
            "Solution (x1, x2, x3, x4): [2.38562753 0.53744939 1.16093117 1.99493927]\n"
          ]
        }
      ]
    },
    {
      "cell_type": "markdown",
      "source": [
        "##Function Test 2"
      ],
      "metadata": {
        "id": "NTmbWKiEifT1"
      }
    },
    {
      "cell_type": "code",
      "source": [
        "import numpy as np\n",
        "\n",
        "A = np.array([\n",
        "    [2, 1, -1],\n",
        "    [-3, 2, 1],\n",
        "    [1, -2, 4]\n",
        "])\n",
        "\n",
        "B = np.array([8, -11, 13])\n",
        "\n",
        "solution = solve_linear_system(A, B)\n",
        "\n",
        "if solution is not None:\n",
        "    print(\"Solution (x1, x2, x3):\", solution)"
      ],
      "metadata": {
        "colab": {
          "base_uri": "https://localhost:8080/"
        },
        "id": "6BYaHxu7iYV5",
        "outputId": "71af0d07-0c61-4486-c458-61a8ecbec74f"
      },
      "execution_count": 38,
      "outputs": [
        {
          "output_type": "stream",
          "name": "stdout",
          "text": [
            "The unknown variables are: [4.86206897 0.62068966 2.34482759]\n",
            "Solution (x1, x2, x3): [4.86206897 0.62068966 2.34482759]\n"
          ]
        }
      ]
    }
  ]
}